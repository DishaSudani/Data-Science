{
 "cells": [
  {
   "cell_type": "markdown",
   "metadata": {},
   "source": [
    "### 1. Read and visualise the data"
   ]
  },
  {
   "cell_type": "code",
   "execution_count": 1,
   "metadata": {},
   "outputs": [],
   "source": [
    "import pandas as pd\n",
    "import numpy as np\n",
    "\n",
    "import seaborn as sns\n",
    "import matplotlib.pyplot as plt\n",
    "\n",
    "import warnings\n",
    "warnings.filterwarnings('ignore')\n",
    "\n",
    "from sklearn.preprocessing import StandardScaler\n",
    "\n",
    "from sklearn.decomposition import PCA\n",
    "\n",
    "from scipy.cluster.hierarchy import linkage\n",
    "from scipy.cluster.hierarchy import dendrogram\n",
    "from scipy.cluster.hierarchy import cut_tree"
   ]
  },
  {
   "cell_type": "code",
   "execution_count": 2,
   "metadata": {},
   "outputs": [
    {
     "data": {
      "text/html": [
       "<div>\n",
       "<style scoped>\n",
       "    .dataframe tbody tr th:only-of-type {\n",
       "        vertical-align: middle;\n",
       "    }\n",
       "\n",
       "    .dataframe tbody tr th {\n",
       "        vertical-align: top;\n",
       "    }\n",
       "\n",
       "    .dataframe thead th {\n",
       "        text-align: right;\n",
       "    }\n",
       "</style>\n",
       "<table border=\"1\" class=\"dataframe\">\n",
       "  <thead>\n",
       "    <tr style=\"text-align: right;\">\n",
       "      <th></th>\n",
       "      <th>country</th>\n",
       "      <th>child_mort</th>\n",
       "      <th>exports</th>\n",
       "      <th>health</th>\n",
       "      <th>imports</th>\n",
       "      <th>income</th>\n",
       "      <th>inflation</th>\n",
       "      <th>life_expec</th>\n",
       "      <th>total_fer</th>\n",
       "      <th>gdpp</th>\n",
       "    </tr>\n",
       "  </thead>\n",
       "  <tbody>\n",
       "    <tr>\n",
       "      <th>0</th>\n",
       "      <td>Afghanistan</td>\n",
       "      <td>90.2</td>\n",
       "      <td>10.0</td>\n",
       "      <td>7.58</td>\n",
       "      <td>44.9</td>\n",
       "      <td>1610</td>\n",
       "      <td>9.44</td>\n",
       "      <td>56.2</td>\n",
       "      <td>5.82</td>\n",
       "      <td>553</td>\n",
       "    </tr>\n",
       "    <tr>\n",
       "      <th>1</th>\n",
       "      <td>Albania</td>\n",
       "      <td>16.6</td>\n",
       "      <td>28.0</td>\n",
       "      <td>6.55</td>\n",
       "      <td>48.6</td>\n",
       "      <td>9930</td>\n",
       "      <td>4.49</td>\n",
       "      <td>76.3</td>\n",
       "      <td>1.65</td>\n",
       "      <td>4090</td>\n",
       "    </tr>\n",
       "    <tr>\n",
       "      <th>2</th>\n",
       "      <td>Algeria</td>\n",
       "      <td>27.3</td>\n",
       "      <td>38.4</td>\n",
       "      <td>4.17</td>\n",
       "      <td>31.4</td>\n",
       "      <td>12900</td>\n",
       "      <td>16.10</td>\n",
       "      <td>76.5</td>\n",
       "      <td>2.89</td>\n",
       "      <td>4460</td>\n",
       "    </tr>\n",
       "    <tr>\n",
       "      <th>3</th>\n",
       "      <td>Angola</td>\n",
       "      <td>119.0</td>\n",
       "      <td>62.3</td>\n",
       "      <td>2.85</td>\n",
       "      <td>42.9</td>\n",
       "      <td>5900</td>\n",
       "      <td>22.40</td>\n",
       "      <td>60.1</td>\n",
       "      <td>6.16</td>\n",
       "      <td>3530</td>\n",
       "    </tr>\n",
       "    <tr>\n",
       "      <th>4</th>\n",
       "      <td>Antigua and Barbuda</td>\n",
       "      <td>10.3</td>\n",
       "      <td>45.5</td>\n",
       "      <td>6.03</td>\n",
       "      <td>58.9</td>\n",
       "      <td>19100</td>\n",
       "      <td>1.44</td>\n",
       "      <td>76.8</td>\n",
       "      <td>2.13</td>\n",
       "      <td>12200</td>\n",
       "    </tr>\n",
       "  </tbody>\n",
       "</table>\n",
       "</div>"
      ],
      "text/plain": [
       "               country  child_mort  exports  health  imports  income  \\\n",
       "0          Afghanistan        90.2     10.0    7.58     44.9    1610   \n",
       "1              Albania        16.6     28.0    6.55     48.6    9930   \n",
       "2              Algeria        27.3     38.4    4.17     31.4   12900   \n",
       "3               Angola       119.0     62.3    2.85     42.9    5900   \n",
       "4  Antigua and Barbuda        10.3     45.5    6.03     58.9   19100   \n",
       "\n",
       "   inflation  life_expec  total_fer   gdpp  \n",
       "0       9.44        56.2       5.82    553  \n",
       "1       4.49        76.3       1.65   4090  \n",
       "2      16.10        76.5       2.89   4460  \n",
       "3      22.40        60.1       6.16   3530  \n",
       "4       1.44        76.8       2.13  12200  "
      ]
     },
     "execution_count": 2,
     "metadata": {},
     "output_type": "execute_result"
    }
   ],
   "source": [
    "data = pd.read_csv('H:/disha_files/Country-data.csv')\n",
    "data.head(5)"
   ]
  },
  {
   "cell_type": "code",
   "execution_count": 3,
   "metadata": {},
   "outputs": [
    {
     "data": {
      "text/html": [
       "<div>\n",
       "<style scoped>\n",
       "    .dataframe tbody tr th:only-of-type {\n",
       "        vertical-align: middle;\n",
       "    }\n",
       "\n",
       "    .dataframe tbody tr th {\n",
       "        vertical-align: top;\n",
       "    }\n",
       "\n",
       "    .dataframe thead th {\n",
       "        text-align: right;\n",
       "    }\n",
       "</style>\n",
       "<table border=\"1\" class=\"dataframe\">\n",
       "  <thead>\n",
       "    <tr style=\"text-align: right;\">\n",
       "      <th></th>\n",
       "      <th>country</th>\n",
       "      <th>child_mort</th>\n",
       "      <th>income</th>\n",
       "      <th>inflation</th>\n",
       "      <th>life_expec</th>\n",
       "      <th>total_fer</th>\n",
       "      <th>gdpp</th>\n",
       "      <th>Exports</th>\n",
       "      <th>Health</th>\n",
       "      <th>Imports</th>\n",
       "    </tr>\n",
       "  </thead>\n",
       "  <tbody>\n",
       "    <tr>\n",
       "      <th>0</th>\n",
       "      <td>Afghanistan</td>\n",
       "      <td>90.2</td>\n",
       "      <td>1610</td>\n",
       "      <td>9.44</td>\n",
       "      <td>56.2</td>\n",
       "      <td>5.82</td>\n",
       "      <td>553</td>\n",
       "      <td>55.30</td>\n",
       "      <td>41.9174</td>\n",
       "      <td>248.297</td>\n",
       "    </tr>\n",
       "    <tr>\n",
       "      <th>1</th>\n",
       "      <td>Albania</td>\n",
       "      <td>16.6</td>\n",
       "      <td>9930</td>\n",
       "      <td>4.49</td>\n",
       "      <td>76.3</td>\n",
       "      <td>1.65</td>\n",
       "      <td>4090</td>\n",
       "      <td>1145.20</td>\n",
       "      <td>267.8950</td>\n",
       "      <td>1987.740</td>\n",
       "    </tr>\n",
       "    <tr>\n",
       "      <th>2</th>\n",
       "      <td>Algeria</td>\n",
       "      <td>27.3</td>\n",
       "      <td>12900</td>\n",
       "      <td>16.10</td>\n",
       "      <td>76.5</td>\n",
       "      <td>2.89</td>\n",
       "      <td>4460</td>\n",
       "      <td>1712.64</td>\n",
       "      <td>185.9820</td>\n",
       "      <td>1400.440</td>\n",
       "    </tr>\n",
       "    <tr>\n",
       "      <th>3</th>\n",
       "      <td>Angola</td>\n",
       "      <td>119.0</td>\n",
       "      <td>5900</td>\n",
       "      <td>22.40</td>\n",
       "      <td>60.1</td>\n",
       "      <td>6.16</td>\n",
       "      <td>3530</td>\n",
       "      <td>2199.19</td>\n",
       "      <td>100.6050</td>\n",
       "      <td>1514.370</td>\n",
       "    </tr>\n",
       "    <tr>\n",
       "      <th>4</th>\n",
       "      <td>Antigua and Barbuda</td>\n",
       "      <td>10.3</td>\n",
       "      <td>19100</td>\n",
       "      <td>1.44</td>\n",
       "      <td>76.8</td>\n",
       "      <td>2.13</td>\n",
       "      <td>12200</td>\n",
       "      <td>5551.00</td>\n",
       "      <td>735.6600</td>\n",
       "      <td>7185.800</td>\n",
       "    </tr>\n",
       "  </tbody>\n",
       "</table>\n",
       "</div>"
      ],
      "text/plain": [
       "               country  child_mort  income  inflation  life_expec  total_fer  \\\n",
       "0          Afghanistan        90.2    1610       9.44        56.2       5.82   \n",
       "1              Albania        16.6    9930       4.49        76.3       1.65   \n",
       "2              Algeria        27.3   12900      16.10        76.5       2.89   \n",
       "3               Angola       119.0    5900      22.40        60.1       6.16   \n",
       "4  Antigua and Barbuda        10.3   19100       1.44        76.8       2.13   \n",
       "\n",
       "    gdpp  Exports    Health   Imports  \n",
       "0    553    55.30   41.9174   248.297  \n",
       "1   4090  1145.20  267.8950  1987.740  \n",
       "2   4460  1712.64  185.9820  1400.440  \n",
       "3   3530  2199.19  100.6050  1514.370  \n",
       "4  12200  5551.00  735.6600  7185.800  "
      ]
     },
     "execution_count": 3,
     "metadata": {},
     "output_type": "execute_result"
    }
   ],
   "source": [
    "data['Exports'] = data['exports']*data['gdpp']/100\n",
    "data['Health'] = data['health']*data['gdpp']/100\n",
    "data['Imports'] = data['imports']*data['gdpp']/100\n",
    "Country = data.drop(['exports','imports','health'],axis=1)\n",
    "Country.head()"
   ]
  },
  {
   "cell_type": "code",
   "execution_count": 4,
   "metadata": {},
   "outputs": [
    {
     "name": "stdout",
     "output_type": "stream",
     "text": [
      "<class 'pandas.core.frame.DataFrame'>\n",
      "RangeIndex: 167 entries, 0 to 166\n",
      "Data columns (total 10 columns):\n",
      "country       167 non-null object\n",
      "child_mort    167 non-null float64\n",
      "income        167 non-null int64\n",
      "inflation     167 non-null float64\n",
      "life_expec    167 non-null float64\n",
      "total_fer     167 non-null float64\n",
      "gdpp          167 non-null int64\n",
      "Exports       167 non-null float64\n",
      "Health        167 non-null float64\n",
      "Imports       167 non-null float64\n",
      "dtypes: float64(7), int64(2), object(1)\n",
      "memory usage: 12.4+ KB\n"
     ]
    }
   ],
   "source": [
    "Country.info()"
   ]
  },
  {
   "cell_type": "code",
   "execution_count": 5,
   "metadata": {},
   "outputs": [
    {
     "data": {
      "text/plain": [
       "country       0.0\n",
       "child_mort    0.0\n",
       "income        0.0\n",
       "inflation     0.0\n",
       "life_expec    0.0\n",
       "total_fer     0.0\n",
       "gdpp          0.0\n",
       "Exports       0.0\n",
       "Health        0.0\n",
       "Imports       0.0\n",
       "dtype: float64"
      ]
     },
     "execution_count": 5,
     "metadata": {},
     "output_type": "execute_result"
    }
   ],
   "source": [
    "round(100*(Country.isnull().sum()/len(Country.index)), 2)"
   ]
  },
  {
   "cell_type": "code",
   "execution_count": 6,
   "metadata": {},
   "outputs": [
    {
     "data": {
      "text/html": [
       "<div>\n",
       "<style scoped>\n",
       "    .dataframe tbody tr th:only-of-type {\n",
       "        vertical-align: middle;\n",
       "    }\n",
       "\n",
       "    .dataframe tbody tr th {\n",
       "        vertical-align: top;\n",
       "    }\n",
       "\n",
       "    .dataframe thead th {\n",
       "        text-align: right;\n",
       "    }\n",
       "</style>\n",
       "<table border=\"1\" class=\"dataframe\">\n",
       "  <thead>\n",
       "    <tr style=\"text-align: right;\">\n",
       "      <th></th>\n",
       "      <th>child_mort</th>\n",
       "      <th>income</th>\n",
       "      <th>inflation</th>\n",
       "      <th>life_expec</th>\n",
       "      <th>total_fer</th>\n",
       "      <th>gdpp</th>\n",
       "      <th>Exports</th>\n",
       "      <th>Health</th>\n",
       "      <th>Imports</th>\n",
       "    </tr>\n",
       "  </thead>\n",
       "  <tbody>\n",
       "    <tr>\n",
       "      <th>count</th>\n",
       "      <td>167.000000</td>\n",
       "      <td>167.000000</td>\n",
       "      <td>167.000000</td>\n",
       "      <td>167.000000</td>\n",
       "      <td>167.000000</td>\n",
       "      <td>167.000000</td>\n",
       "      <td>167.000000</td>\n",
       "      <td>167.000000</td>\n",
       "      <td>167.000000</td>\n",
       "    </tr>\n",
       "    <tr>\n",
       "      <th>mean</th>\n",
       "      <td>38.270060</td>\n",
       "      <td>17144.688623</td>\n",
       "      <td>7.781832</td>\n",
       "      <td>70.555689</td>\n",
       "      <td>2.947964</td>\n",
       "      <td>12964.155689</td>\n",
       "      <td>7420.618847</td>\n",
       "      <td>1056.733204</td>\n",
       "      <td>6588.352108</td>\n",
       "    </tr>\n",
       "    <tr>\n",
       "      <th>std</th>\n",
       "      <td>40.328931</td>\n",
       "      <td>19278.067698</td>\n",
       "      <td>10.570704</td>\n",
       "      <td>8.893172</td>\n",
       "      <td>1.513848</td>\n",
       "      <td>18328.704809</td>\n",
       "      <td>17973.885795</td>\n",
       "      <td>1801.408906</td>\n",
       "      <td>14710.810418</td>\n",
       "    </tr>\n",
       "    <tr>\n",
       "      <th>min</th>\n",
       "      <td>2.600000</td>\n",
       "      <td>609.000000</td>\n",
       "      <td>-4.210000</td>\n",
       "      <td>32.100000</td>\n",
       "      <td>1.150000</td>\n",
       "      <td>231.000000</td>\n",
       "      <td>1.076920</td>\n",
       "      <td>12.821200</td>\n",
       "      <td>0.651092</td>\n",
       "    </tr>\n",
       "    <tr>\n",
       "      <th>25%</th>\n",
       "      <td>8.250000</td>\n",
       "      <td>3355.000000</td>\n",
       "      <td>1.810000</td>\n",
       "      <td>65.300000</td>\n",
       "      <td>1.795000</td>\n",
       "      <td>1330.000000</td>\n",
       "      <td>447.140000</td>\n",
       "      <td>78.535500</td>\n",
       "      <td>640.215000</td>\n",
       "    </tr>\n",
       "    <tr>\n",
       "      <th>50%</th>\n",
       "      <td>19.300000</td>\n",
       "      <td>9960.000000</td>\n",
       "      <td>5.390000</td>\n",
       "      <td>73.100000</td>\n",
       "      <td>2.410000</td>\n",
       "      <td>4660.000000</td>\n",
       "      <td>1777.440000</td>\n",
       "      <td>321.886000</td>\n",
       "      <td>2045.580000</td>\n",
       "    </tr>\n",
       "    <tr>\n",
       "      <th>75%</th>\n",
       "      <td>62.100000</td>\n",
       "      <td>22800.000000</td>\n",
       "      <td>10.750000</td>\n",
       "      <td>76.800000</td>\n",
       "      <td>3.880000</td>\n",
       "      <td>14050.000000</td>\n",
       "      <td>7278.000000</td>\n",
       "      <td>976.940000</td>\n",
       "      <td>7719.600000</td>\n",
       "    </tr>\n",
       "    <tr>\n",
       "      <th>max</th>\n",
       "      <td>208.000000</td>\n",
       "      <td>125000.000000</td>\n",
       "      <td>104.000000</td>\n",
       "      <td>82.800000</td>\n",
       "      <td>7.490000</td>\n",
       "      <td>105000.000000</td>\n",
       "      <td>183750.000000</td>\n",
       "      <td>8663.600000</td>\n",
       "      <td>149100.000000</td>\n",
       "    </tr>\n",
       "  </tbody>\n",
       "</table>\n",
       "</div>"
      ],
      "text/plain": [
       "       child_mort         income   inflation  life_expec   total_fer  \\\n",
       "count  167.000000     167.000000  167.000000  167.000000  167.000000   \n",
       "mean    38.270060   17144.688623    7.781832   70.555689    2.947964   \n",
       "std     40.328931   19278.067698   10.570704    8.893172    1.513848   \n",
       "min      2.600000     609.000000   -4.210000   32.100000    1.150000   \n",
       "25%      8.250000    3355.000000    1.810000   65.300000    1.795000   \n",
       "50%     19.300000    9960.000000    5.390000   73.100000    2.410000   \n",
       "75%     62.100000   22800.000000   10.750000   76.800000    3.880000   \n",
       "max    208.000000  125000.000000  104.000000   82.800000    7.490000   \n",
       "\n",
       "                gdpp        Exports       Health        Imports  \n",
       "count     167.000000     167.000000   167.000000     167.000000  \n",
       "mean    12964.155689    7420.618847  1056.733204    6588.352108  \n",
       "std     18328.704809   17973.885795  1801.408906   14710.810418  \n",
       "min       231.000000       1.076920    12.821200       0.651092  \n",
       "25%      1330.000000     447.140000    78.535500     640.215000  \n",
       "50%      4660.000000    1777.440000   321.886000    2045.580000  \n",
       "75%     14050.000000    7278.000000   976.940000    7719.600000  \n",
       "max    105000.000000  183750.000000  8663.600000  149100.000000  "
      ]
     },
     "execution_count": 6,
     "metadata": {},
     "output_type": "execute_result"
    }
   ],
   "source": [
    "Country.describe()"
   ]
  },
  {
   "cell_type": "code",
   "execution_count": 7,
   "metadata": {},
   "outputs": [
    {
     "data": {
      "text/plain": [
       "(167, 10)"
      ]
     },
     "execution_count": 7,
     "metadata": {},
     "output_type": "execute_result"
    }
   ],
   "source": [
    "Country.shape"
   ]
  },
  {
   "cell_type": "markdown",
   "metadata": {},
   "source": [
    "# Let's begin with analysis part "
   ]
  },
  {
   "cell_type": "markdown",
   "metadata": {},
   "source": [
    "### 2. Principal Component Analysis"
   ]
  },
  {
   "cell_type": "code",
   "execution_count": 8,
   "metadata": {},
   "outputs": [],
   "source": [
    "## First let us see if we can explain the dataset using fewer variables\n",
    "\n",
    "Country_df = Country.drop(['country'],axis=1)\n",
    "standard_scaler = StandardScaler()\n",
    "Country_df_pca = standard_scaler.fit_transform(Country_df)"
   ]
  },
  {
   "cell_type": "code",
   "execution_count": 9,
   "metadata": {},
   "outputs": [
    {
     "data": {
      "text/plain": [
       "array([[ 1.29153238, -0.8082454 ,  0.15733622, ..., -0.4110113 ,\n",
       "        -0.56503989, -0.4322755 ],\n",
       "       [-0.5389489 , -0.3753689 , -0.31234747, ..., -0.35019096,\n",
       "        -0.43921769, -0.31367739],\n",
       "       [-0.27283273, -0.22084447,  0.78927429, ..., -0.31852577,\n",
       "        -0.48482608, -0.35372048],\n",
       "       ...,\n",
       "       [-0.37231541, -0.65840354,  0.40973191, ..., -0.36146329,\n",
       "        -0.53848844, -0.37757179],\n",
       "       [ 0.44841668, -0.65892382,  1.50091625, ..., -0.39216643,\n",
       "        -0.55059641, -0.41847942],\n",
       "       [ 1.11495062, -0.72135793,  0.59001454, ..., -0.38395214,\n",
       "        -0.54049845, -0.41844533]])"
      ]
     },
     "execution_count": 9,
     "metadata": {},
     "output_type": "execute_result"
    }
   ],
   "source": [
    "Country_df_pca "
   ]
  },
  {
   "cell_type": "code",
   "execution_count": 10,
   "metadata": {},
   "outputs": [],
   "source": [
    "#Importing the PCA module\n",
    "\n",
    "pca = PCA(svd_solver='randomized', random_state=42)\n"
   ]
  },
  {
   "cell_type": "code",
   "execution_count": 11,
   "metadata": {},
   "outputs": [
    {
     "data": {
      "text/plain": [
       "PCA(copy=True, iterated_power='auto', n_components=None, random_state=42,\n",
       "  svd_solver='randomized', tol=0.0, whiten=False)"
      ]
     },
     "execution_count": 11,
     "metadata": {},
     "output_type": "execute_result"
    }
   ],
   "source": [
    "#Performing the PCA\n",
    "\n",
    "pca.fit(Country_df_pca)"
   ]
  },
  {
   "cell_type": "code",
   "execution_count": 12,
   "metadata": {},
   "outputs": [
    {
     "data": {
      "text/plain": [
       "array([[-0.31639186,  0.38004113, -0.14308531,  0.34385651, -0.30284224,\n",
       "         0.39998795,  0.34288671,  0.358535  ,  0.34486492],\n",
       "       [ 0.47626735,  0.12838448,  0.22126089, -0.36981973,  0.4597152 ,\n",
       "         0.2006241 ,  0.39731091,  0.1550529 ,  0.37078075],\n",
       "       [-0.15001225,  0.14576421,  0.94841868,  0.19675173, -0.07783431,\n",
       "         0.01033941, -0.03057367, -0.07570322, -0.07217386],\n",
       "       [-0.14805195, -0.15480592, -0.00762798, -0.01839465, -0.21392805,\n",
       "        -0.36477239,  0.44942527, -0.59971228,  0.46179779],\n",
       "       [ 0.1019948 ,  0.79407469, -0.13642345, -0.15404105, -0.02033568,\n",
       "         0.08750149, -0.03853829, -0.49319984, -0.2527867 ],\n",
       "       [ 0.19658519, -0.03814681,  0.10840284, -0.58600986, -0.75390075,\n",
       "         0.04538167, -0.03891112,  0.18069888, -0.01217988],\n",
       "       [ 0.76126725, -0.02311312, -0.02207663,  0.58120846, -0.27314534,\n",
       "        -0.04402264, -0.01366973, -0.06461567,  0.02718244],\n",
       "       [ 0.00644411,  0.3938113 , -0.00607016,  0.002966  ,  0.03429334,\n",
       "        -0.79902242, -0.05526371,  0.43007213,  0.1311355 ],\n",
       "       [-0.00495137,  0.07901102,  0.01128137, -0.03159406,  0.02368185,\n",
       "         0.12846398, -0.71792388, -0.13034593,  0.66568664]])"
      ]
     },
     "execution_count": 12,
     "metadata": {},
     "output_type": "execute_result"
    }
   ],
   "source": [
    "#List of PCA components.\n",
    "\n",
    "pca.components_"
   ]
  },
  {
   "cell_type": "code",
   "execution_count": 13,
   "metadata": {},
   "outputs": [
    {
     "data": {
      "text/plain": [
       "array([0.58937298, 0.77382467, 0.87293939, 0.93366217, 0.96395389,\n",
       "       0.98855216, 0.9979496 , 0.99950602, 1.        ])"
      ]
     },
     "execution_count": 13,
     "metadata": {},
     "output_type": "execute_result"
    }
   ],
   "source": [
    "#Let's check the variance ratios\n",
    "\n",
    "pca.explained_variance_ratio_.cumsum()"
   ]
  },
  {
   "cell_type": "code",
   "execution_count": 14,
   "metadata": {},
   "outputs": [
    {
     "data": {
      "image/png": "[encoded data removed]",
      "text/plain": [
       "<Figure size 720x432 with 1 Axes>"
      ]
     },
     "metadata": {
      "needs_background": "light"
     },
     "output_type": "display_data"
    }
   ],
   "source": [
    "#Plotting the scree plot\n",
    "\n",
    "%matplotlib inline\n",
    "fig = plt.figure(figsize = (10,6))\n",
    "plt.plot(np.cumsum(pca.explained_variance_ratio_))\n",
    "\n",
    "plt.xlabel('number of components')\n",
    "plt.ylabel('cumulative explained variance')\n",
    "\n",
    "plt.show()"
   ]
  },
  {
   "cell_type": "markdown",
   "metadata": {},
   "source": [
    "Around 93% of the information is being explained by 4 components"
   ]
  },
  {
   "cell_type": "code",
   "execution_count": 15,
   "metadata": {},
   "outputs": [
    {
     "data": {
      "text/html": [
       "<div>\n",
       "<style scoped>\n",
       "    .dataframe tbody tr th:only-of-type {\n",
       "        vertical-align: middle;\n",
       "    }\n",
       "\n",
       "    .dataframe tbody tr th {\n",
       "        vertical-align: top;\n",
       "    }\n",
       "\n",
       "    .dataframe thead th {\n",
       "        text-align: right;\n",
       "    }\n",
       "</style>\n",
       "<table border=\"1\" class=\"dataframe\">\n",
       "  <thead>\n",
       "    <tr style=\"text-align: right;\">\n",
       "      <th></th>\n",
       "      <th>Feature</th>\n",
       "      <th>PC1</th>\n",
       "      <th>PC2</th>\n",
       "      <th>PC3</th>\n",
       "      <th>PC4</th>\n",
       "    </tr>\n",
       "  </thead>\n",
       "  <tbody>\n",
       "    <tr>\n",
       "      <th>0</th>\n",
       "      <td>child_mort</td>\n",
       "      <td>-0.316392</td>\n",
       "      <td>0.476267</td>\n",
       "      <td>-0.150012</td>\n",
       "      <td>-0.148052</td>\n",
       "    </tr>\n",
       "    <tr>\n",
       "      <th>1</th>\n",
       "      <td>income</td>\n",
       "      <td>0.380041</td>\n",
       "      <td>0.128384</td>\n",
       "      <td>0.145764</td>\n",
       "      <td>-0.154806</td>\n",
       "    </tr>\n",
       "    <tr>\n",
       "      <th>2</th>\n",
       "      <td>inflation</td>\n",
       "      <td>-0.143085</td>\n",
       "      <td>0.221261</td>\n",
       "      <td>0.948419</td>\n",
       "      <td>-0.007628</td>\n",
       "    </tr>\n",
       "    <tr>\n",
       "      <th>3</th>\n",
       "      <td>life_expec</td>\n",
       "      <td>0.343857</td>\n",
       "      <td>-0.369820</td>\n",
       "      <td>0.196752</td>\n",
       "      <td>-0.018395</td>\n",
       "    </tr>\n",
       "    <tr>\n",
       "      <th>4</th>\n",
       "      <td>total_fer</td>\n",
       "      <td>-0.302842</td>\n",
       "      <td>0.459715</td>\n",
       "      <td>-0.077834</td>\n",
       "      <td>-0.213928</td>\n",
       "    </tr>\n",
       "    <tr>\n",
       "      <th>5</th>\n",
       "      <td>gdpp</td>\n",
       "      <td>0.399988</td>\n",
       "      <td>0.200624</td>\n",
       "      <td>0.010339</td>\n",
       "      <td>-0.364772</td>\n",
       "    </tr>\n",
       "    <tr>\n",
       "      <th>6</th>\n",
       "      <td>Exports</td>\n",
       "      <td>0.342887</td>\n",
       "      <td>0.397311</td>\n",
       "      <td>-0.030574</td>\n",
       "      <td>0.449425</td>\n",
       "    </tr>\n",
       "    <tr>\n",
       "      <th>7</th>\n",
       "      <td>Health</td>\n",
       "      <td>0.358535</td>\n",
       "      <td>0.155053</td>\n",
       "      <td>-0.075703</td>\n",
       "      <td>-0.599712</td>\n",
       "    </tr>\n",
       "    <tr>\n",
       "      <th>8</th>\n",
       "      <td>Imports</td>\n",
       "      <td>0.344865</td>\n",
       "      <td>0.370781</td>\n",
       "      <td>-0.072174</td>\n",
       "      <td>0.461798</td>\n",
       "    </tr>\n",
       "  </tbody>\n",
       "</table>\n",
       "</div>"
      ],
      "text/plain": [
       "      Feature       PC1       PC2       PC3       PC4\n",
       "0  child_mort -0.316392  0.476267 -0.150012 -0.148052\n",
       "1      income  0.380041  0.128384  0.145764 -0.154806\n",
       "2   inflation -0.143085  0.221261  0.948419 -0.007628\n",
       "3  life_expec  0.343857 -0.369820  0.196752 -0.018395\n",
       "4   total_fer -0.302842  0.459715 -0.077834 -0.213928\n",
       "5        gdpp  0.399988  0.200624  0.010339 -0.364772\n",
       "6     Exports  0.342887  0.397311 -0.030574  0.449425\n",
       "7      Health  0.358535  0.155053 -0.075703 -0.599712\n",
       "8     Imports  0.344865  0.370781 -0.072174  0.461798"
      ]
     },
     "execution_count": 15,
     "metadata": {},
     "output_type": "execute_result"
    }
   ],
   "source": [
    "#Understanding how the original variables are loaded on the principal components. It can be verified from above as well.\n",
    "\n",
    "colnames = list(Country_df.columns)\n",
    "pcs_df = pd.DataFrame({'Feature':colnames,'PC1':pca.components_[0],'PC2':pca.components_[1],'PC3':pca.components_[2],'PC4':pca.components_[3]})\n",
    "pcs_df"
   ]
  },
  {
   "cell_type": "code",
   "execution_count": 16,
   "metadata": {},
   "outputs": [
    {
     "data": {
      "image/png": "[encoded data removed]",
      "text/plain": [
       "<Figure size 576x432 with 1 Axes>"
      ]
     },
     "metadata": {
      "needs_background": "light"
     },
     "output_type": "display_data"
    }
   ],
   "source": [
    "# Let's plot them to visualise how these features are loaded\n",
    "\n",
    "%matplotlib inline\n",
    "fig = plt.figure(figsize = (8,6))\n",
    "plt.scatter(pcs_df.PC1, pcs_df.PC2)\n",
    "plt.xlabel('Principal Component 1')\n",
    "plt.ylabel('Principal Component 2')\n",
    "for i, txt in enumerate(pcs_df.Feature):\n",
    "    plt.annotate(txt, (pcs_df.PC1[i],pcs_df.PC2[i]))\n",
    "plt.tight_layout()\n",
    "plt.show()"
   ]
  },
  {
   "cell_type": "code",
   "execution_count": 17,
   "metadata": {},
   "outputs": [],
   "source": [
    "#Finally let's go ahead and do dimenstionality reduction using the five Principal Components\n",
    "\n",
    "from sklearn.decomposition import IncrementalPCA\n",
    "pca_final = IncrementalPCA(n_components=4)"
   ]
  },
  {
   "cell_type": "code",
   "execution_count": 18,
   "metadata": {},
   "outputs": [
    {
     "data": {
      "text/plain": [
       "(167, 4)"
      ]
     },
     "execution_count": 18,
     "metadata": {},
     "output_type": "execute_result"
    }
   ],
   "source": [
    "df_pca = pca_final.fit_transform(Country_df_pca)\n",
    "df_pca.shape"
   ]
  },
  {
   "cell_type": "code",
   "execution_count": 19,
   "metadata": {},
   "outputs": [
    {
     "data": {
      "text/plain": [
       "array([[-2.63664719e+00,  1.47208541e+00, -5.46499687e-01,\n",
       "         2.37267111e-01],\n",
       "       [-2.38453563e-02, -1.43581581e+00, -9.07965149e-03,\n",
       "        -4.42921246e-01],\n",
       "       [-4.59260048e-01, -6.78793979e-01,  9.67851701e-01,\n",
       "        -1.76389183e-01],\n",
       "       [-2.72358099e+00,  2.17601815e+00,  5.97793905e-01,\n",
       "         4.38918801e-01],\n",
       "       [ 6.48777079e-01, -1.02649806e+00, -2.44170307e-01,\n",
       "        -2.67513413e-01],\n",
       "       [ 3.64467926e-02, -6.84622218e-01,  1.46536060e+00,\n",
       "         6.60677268e-02],\n",
       "       [-3.34274149e-01, -1.27903261e+00,  1.90771929e-01,\n",
       "        -5.01435384e-01],\n",
       "       [ 3.18436150e+00, -2.38373184e-01, -1.68539991e-01,\n",
       "         1.66969553e+00],\n",
       "       [ 3.81813720e+00,  2.62613732e-01, -2.97336122e-01,\n",
       "         9.74405166e-01],\n",
       "       [-4.67475427e-01, -4.94060580e-01,  6.08605487e-01,\n",
       "        -2.58516905e-01],\n",
       "       [ 1.49957973e+00, -4.25884552e-01, -5.57799928e-01,\n",
       "         2.24968322e-01],\n",
       "       [ 1.47129299e+00, -3.25734384e-01,  4.26551347e-01,\n",
       "        -1.17964031e-01],\n",
       "       [-1.01520291e+00, -7.14449554e-01, -1.05621660e-01,\n",
       "        -3.86759065e-01],\n",
       "       [ 8.44516996e-01, -1.00990198e+00, -4.13553222e-01,\n",
       "        -1.46517736e-01],\n",
       "       [-1.45349574e-02, -9.86440094e-01,  8.94359751e-01,\n",
       "        -5.05126746e-01],\n",
       "       [ 3.96110220e+00,  8.37658144e-01, -2.95167840e-01,\n",
       "         2.43892243e-01],\n",
       "       [-4.04074594e-01, -9.24494729e-01, -4.94882540e-01,\n",
       "        -3.70053291e-01],\n",
       "       [-2.36500877e+00,  1.17323832e+00, -1.24197992e+00,\n",
       "         2.38687739e-01],\n",
       "       [-7.16069241e-01, -7.70732948e-01, -1.23956291e-01,\n",
       "        -3.62802120e-01],\n",
       "       [-1.01892957e+00, -4.29184859e-01,  5.84068340e-02,\n",
       "        -2.04314502e-01],\n",
       "       [ 2.51204905e-01, -1.70065961e+00, -2.38844325e-01,\n",
       "        -4.62239372e-01],\n",
       "       [-1.12955278e+00,  4.00938265e-01, -2.37767352e-01,\n",
       "        -1.37561744e-01],\n",
       "       [ 1.66174419e-01, -1.01885419e+00,  2.74252555e-01,\n",
       "         2.65835724e-02],\n",
       "       [ 2.69869864e+00,  3.76827900e-01,  1.62219931e+00,\n",
       "         3.06711709e-01],\n",
       "       [ 2.79629898e-01, -1.32292201e+00, -3.14874227e-01,\n",
       "        -4.28776993e-01],\n",
       "       [-2.75261023e+00,  1.66712140e+00, -8.46749434e-01,\n",
       "         3.27235315e-01],\n",
       "       [-2.76358752e+00,  1.62883424e+00, -2.95656064e-01,\n",
       "         3.16530874e-01],\n",
       "       [-1.17996011e+00, -4.94620688e-01, -5.69686299e-01,\n",
       "        -3.47361293e-01],\n",
       "       [-2.43989940e+00,  1.28983370e+00, -1.22482195e+00,\n",
       "         1.94814867e-01],\n",
       "       [ 3.39776294e+00, -6.53646264e-02, -9.89529467e-02,\n",
       "         1.57429355e+00],\n",
       "       [-5.24653624e-01, -9.80778416e-01, -5.63573998e-01,\n",
       "        -3.66937824e-01],\n",
       "       [-3.23814324e+00,  2.18275448e+00, -1.61356843e+00,\n",
       "         2.54537675e-01],\n",
       "       [-3.18676012e+00,  2.35978275e+00, -1.07793569e+00,\n",
       "         5.40646444e-01],\n",
       "       [ 6.91455481e-01, -1.11713348e+00,  4.98539809e-01,\n",
       "        -6.43689910e-02],\n",
       "       [-1.30236879e-01, -1.36588567e+00,  1.80696713e-01,\n",
       "        -4.36824538e-01],\n",
       "       [-1.50391768e-02, -1.29481386e+00, -8.62051833e-02,\n",
       "        -2.28612945e-01],\n",
       "       [-1.94993473e+00,  6.05857798e-01, -7.70258711e-01,\n",
       "         8.70008373e-02],\n",
       "       [-3.11605619e+00,  2.17273974e+00,  3.57523288e-01,\n",
       "         4.35244253e-01],\n",
       "       [-2.04803223e+00,  1.08658489e+00,  7.17461693e-01,\n",
       "         3.66971919e-02],\n",
       "       [ 4.29914646e-01, -1.37698911e+00,  2.66801278e-01,\n",
       "        -1.56063895e-01],\n",
       "       [-2.57320863e+00,  1.49961649e+00, -9.56299913e-01,\n",
       "         2.13689756e-01],\n",
       "       [ 8.45827832e-01, -1.26444915e+00, -2.65372808e-01,\n",
       "        -1.67261000e-01],\n",
       "       [ 2.31364253e+00, -5.50715213e-01, -6.06424181e-02,\n",
       "        -1.21376258e-01],\n",
       "       [ 1.67418313e+00, -8.68746296e-01, -4.31674221e-01,\n",
       "        -2.50297330e-01],\n",
       "       [ 4.37942320e+00,  9.28432358e-01, -2.25447938e-01,\n",
       "         1.50226447e+00],\n",
       "       [-3.68711722e-01, -8.14928566e-01, -6.80072593e-02,\n",
       "        -1.75911321e-01],\n",
       "       [-3.04235193e-01, -9.76708239e-01,  1.78535140e-01,\n",
       "        -1.95187492e-01],\n",
       "       [-8.37714212e-01, -5.32419119e-01,  2.57239284e-01,\n",
       "        -1.91820488e-01],\n",
       "       [-3.38121396e-01, -1.22091320e+00, -2.77391459e-01,\n",
       "        -3.85259300e-01],\n",
       "       [-1.05325585e+00,  2.70200294e+00,  1.06073005e+00,\n",
       "         4.25477428e-01],\n",
       "       [-1.94899697e+00,  4.92196712e-01, -3.72425137e-02,\n",
       "        -4.63910673e-02],\n",
       "       [ 1.06442426e+00, -9.27164091e-01, -1.91365135e-01,\n",
       "        -4.56407263e-01],\n",
       "       [-7.63323577e-01, -5.83201426e-01, -3.76627671e-01,\n",
       "        -4.02809952e-01],\n",
       "       [ 3.20389913e+00,  2.81163129e-03, -3.07152465e-01,\n",
       "         9.89392577e-01],\n",
       "       [ 2.89520532e+00, -2.97691287e-01, -2.55811715e-01,\n",
       "         1.47701000e+00],\n",
       "       [-1.28198433e+00,  8.52402580e-01,  5.18753612e-01,\n",
       "         1.21448281e-01],\n",
       "       [-2.10566152e+00,  8.25765468e-01, -7.50257502e-01,\n",
       "         2.21167256e-01],\n",
       "       [-3.62088512e-01, -1.16882216e+00,  2.35045413e-01,\n",
       "        -4.37619444e-01],\n",
       "       [ 3.30216131e+00, -1.55142183e-01, -2.80613541e-01,\n",
       "         1.12433873e+00],\n",
       "       [-2.00244565e+00,  7.51030513e-01,  3.68342408e-01,\n",
       "        -8.97515332e-03],\n",
       "       [ 1.93167149e+00, -1.01738519e+00, -2.17149011e-01,\n",
       "         6.05708726e-01],\n",
       "       [-8.63735899e-02, -1.04067316e+00, -5.06107237e-01,\n",
       "        -3.20481879e-01],\n",
       "       [-8.58723785e-01, -5.37516510e-01, -2.34012962e-01,\n",
       "        -1.63442310e-01],\n",
       "       [-2.71346083e+00,  1.61566585e+00,  3.43058425e-02,\n",
       "         2.22578594e-01],\n",
       "       [-2.60916678e+00,  1.40830043e+00, -1.19821310e+00,\n",
       "         1.73184590e-01],\n",
       "       [-9.32909863e-01, -4.33964413e-01, -3.01794442e-01,\n",
       "        -3.82064878e-01],\n",
       "       [-3.93818385e+00,  3.04527919e+00, -1.79886317e+00,\n",
       "         6.82523969e-02],\n",
       "       [ 1.05106912e+00, -9.96104021e-01, -1.65464309e-01,\n",
       "        -5.36279347e-01],\n",
       "       [ 3.10158963e+00,  1.69252114e-01,  1.75179633e-01,\n",
       "         7.59526500e-01],\n",
       "       [-1.26551477e+00, -2.74099493e-01, -7.10128976e-02,\n",
       "        -3.02038482e-01],\n",
       "       [-8.43090075e-01, -5.68220775e-01,  7.13589698e-01,\n",
       "        -3.13556638e-01],\n",
       "       [-7.91627783e-02, -9.74926881e-01,  1.01588571e+00,\n",
       "        -2.45218784e-01],\n",
       "       [-1.19815519e+00,  3.64739772e-01,  6.75340368e-01,\n",
       "         1.37709180e-01],\n",
       "       [ 4.65994226e+00,  1.40153632e+00, -7.53864610e-01,\n",
       "        -3.90515335e-01],\n",
       "       [ 1.78372403e+00, -3.96339073e-01, -1.48938159e-01,\n",
       "         6.30935148e-01],\n",
       "       [ 2.55525592e+00, -7.69683918e-01, -2.01040044e-01,\n",
       "         9.34319854e-01],\n",
       "       [-2.94256386e-01, -1.07627362e+00,  3.84727776e-01,\n",
       "        -3.94188844e-01],\n",
       "       [ 2.86227852e+00, -8.67783532e-01, -3.97723063e-01,\n",
       "         1.52540131e+00],\n",
       "       [-5.23407002e-01, -6.42897781e-01,  2.14677342e-01,\n",
       "        -1.35611345e-01],\n",
       "       [-3.56925338e-01, -2.23996129e-01,  1.16546044e+00,\n",
       "        -1.48784152e-01],\n",
       "       [-1.73762589e+00,  2.82076960e-01, -8.72348674e-01,\n",
       "        -5.21180575e-02],\n",
       "       [-1.66747643e+00,  2.34843050e-01, -9.66715912e-01,\n",
       "        -1.34183637e-01],\n",
       "       [ 2.78314537e+00,  4.17603376e-01,  1.08056725e+00,\n",
       "         2.71124248e-01],\n",
       "       [-1.09209649e+00, -5.49128134e-01,  1.47744440e-01,\n",
       "        -3.38032749e-01],\n",
       "       [-1.63765953e+00,  2.39648238e-01, -2.13412694e-01,\n",
       "        -1.80128168e-01],\n",
       "       [ 6.65798676e-01, -1.21090282e+00, -4.89179693e-01,\n",
       "        -4.22216465e-01],\n",
       "       [ 6.45933380e-01, -1.50090227e+00, -2.66629428e-01,\n",
       "        -3.48789138e-01],\n",
       "       [-2.43372805e+00,  1.16191637e+00, -1.16622881e+00,\n",
       "        -1.90070668e-01],\n",
       "       [-2.25878758e+00,  9.34273419e-01, -7.65320030e-01,\n",
       "         1.03323516e-01],\n",
       "       [ 4.91727584e-01, -5.19832692e-01,  9.56039438e-01,\n",
       "        -1.63576753e-01],\n",
       "       [ 7.77197185e-01, -1.00590181e+00, -1.93214462e-01,\n",
       "        -4.34452177e-01],\n",
       "       [ 1.26336338e+01,  8.21980036e+00, -5.71183722e-01,\n",
       "        -4.58724505e+00],\n",
       "       [ 8.27317662e-02, -1.46945385e+00, -2.42164793e-01,\n",
       "        -5.02201720e-01],\n",
       "       [-1.99737834e+00,  5.53877162e-01, -3.36365174e-01,\n",
       "        -3.93287079e-02],\n",
       "       [-2.70988303e+00,  1.49778549e+00, -3.61391284e-01,\n",
       "         1.34213421e-01],\n",
       "       [ 4.25837206e-01, -8.49811145e-01,  2.70370901e-01,\n",
       "        -4.57717568e-01],\n",
       "       [ 2.29337535e-01, -1.18446640e+00, -1.52384484e-01,\n",
       "        -4.27954646e-01],\n",
       "       [-2.94558907e+00,  2.01471902e+00, -1.13725499e+00,\n",
       "         5.08644350e-01],\n",
       "       [ 2.63240742e+00,  7.43951425e-02, -3.73266156e-02,\n",
       "        -1.27436403e+00],\n",
       "       [-2.11516632e+00,  1.04404267e+00,  5.91793687e-01,\n",
       "         1.92237037e-01],\n",
       "       [ 3.10520304e-01, -1.18535864e+00, -3.43192096e-01,\n",
       "        -4.47120678e-01],\n",
       "       [-1.11621290e+00, -2.13966198e-01, -5.56650471e-01,\n",
       "        -1.71396123e-01],\n",
       "       [-5.12701772e-01, -1.23628468e+00,  4.02687025e-01,\n",
       "        -6.21965123e-01],\n",
       "       [-1.26989922e+00,  7.63013659e-02,  2.77137518e+00,\n",
       "        -3.30800799e-01],\n",
       "       [ 3.54587682e-01, -1.40920556e+00, -2.28723976e-01,\n",
       "        -3.62292615e-01],\n",
       "       [-5.48026483e-01, -9.80915700e-01, -5.13443597e-01,\n",
       "        -3.23429432e-01],\n",
       "       [-2.73141820e+00,  1.54688013e+00, -7.80908941e-01,\n",
       "         2.01502334e-01],\n",
       "       [-1.26482449e+00, -3.58765436e-01, -2.45855356e-01,\n",
       "        -3.21292789e-01],\n",
       "       [-1.33514881e+00,  4.15853521e-01, -7.59340697e-01,\n",
       "        -1.24779434e-01],\n",
       "       [-1.25370551e+00, -4.07839996e-01,  5.50326358e-01,\n",
       "        -3.54226903e-01],\n",
       "       [ 4.49591279e+00,  9.94064602e-01, -3.99317923e-01,\n",
       "         7.65229629e-01],\n",
       "       [ 2.20877733e+00, -4.55078817e-01,  1.16235630e-02,\n",
       "         9.54892699e-01],\n",
       "       [-3.06240988e+00,  2.10883187e+00, -1.31109319e+00,\n",
       "         5.95812777e-01],\n",
       "       [-3.93133281e+00,  3.82500511e+00,  7.86789800e+00,\n",
       "         5.76284454e-01],\n",
       "       [ 5.84935070e+00,  1.66970142e+00,  1.08885527e-01,\n",
       "         2.69859611e+00],\n",
       "       [ 1.05198320e+00, -2.75579923e-02,  1.19177846e+00,\n",
       "         8.44598514e-03],\n",
       "       [-1.86236201e+00,  5.67760857e-01, -1.04179529e-01,\n",
       "        -5.94273013e-03],\n",
       "       [ 3.01438150e-01, -8.81296452e-01, -2.01199565e-01,\n",
       "        -2.70421517e-01],\n",
       "       [-4.89286999e-01, -9.20505359e-01, -1.04027888e-02,\n",
       "        -3.25064163e-01],\n",
       "       [-1.81640099e-01, -1.16571319e+00,  8.64132096e-02,\n",
       "        -2.43373376e-01],\n",
       "       [-9.30031110e-01, -6.01853461e-01, -3.46482259e-01,\n",
       "        -2.75838182e-01],\n",
       "       [ 8.54375094e-01, -1.28797486e+00, -1.65962979e-01,\n",
       "        -2.26983398e-01],\n",
       "       [ 1.76020483e+00, -1.08611145e+00, -2.27274575e-01,\n",
       "         3.68527225e-01],\n",
       "       [ 5.13151814e+00,  1.46310087e+00,  1.12046542e+00,\n",
       "         8.22405084e-01],\n",
       "       [ 2.82917124e-01, -1.24415053e+00, -8.15174661e-02,\n",
       "        -3.39422930e-01],\n",
       "       [ 1.41909985e-01, -7.97548472e-01,  8.21420580e-01,\n",
       "        -2.07258598e-01],\n",
       "       [-1.74877331e+00,  2.59280627e-01, -8.06498444e-01,\n",
       "        -2.26119565e-02],\n",
       "       [-8.49924371e-01, -4.95012421e-01, -5.30906880e-01,\n",
       "        -8.49416237e-02],\n",
       "       [ 9.12249120e-01,  3.35118703e-02,  1.28844815e+00,\n",
       "         2.52008081e-01],\n",
       "       [-1.86296100e+00,  4.94748150e-01, -9.19142472e-01,\n",
       "         7.71608401e-02],\n",
       "       [ 1.85258665e-01, -1.43418341e+00,  1.28249918e-01,\n",
       "        -4.05631005e-01],\n",
       "       [ 6.66860789e-01, -7.70625747e-01, -8.37679474e-01,\n",
       "        -6.64122326e-01],\n",
       "       [-3.22458835e+00,  2.32256042e+00, -1.28086650e-01,\n",
       "         3.52305355e-01],\n",
       "       [ 6.58249368e+00,  2.91363335e+00, -2.24591473e-01,\n",
       "        -3.49633927e+00],\n",
       "       [ 1.40975018e+00, -7.90932796e-01, -3.39379646e-01,\n",
       "        -3.89568609e-01],\n",
       "       [ 2.04122596e+00, -7.26884482e-01, -3.95427569e-01,\n",
       "        -7.73589301e-02],\n",
       "       [-1.51849922e+00,  1.22797240e-02, -3.50581448e-01,\n",
       "        -1.91078509e-01],\n",
       "       [-1.17778837e+00,  3.55703539e-01, -5.34096778e-01,\n",
       "        -9.44805925e-02],\n",
       "       [ 1.75618557e+00, -1.02241928e+00,  8.05101569e-02,\n",
       "        -9.18827155e-02],\n",
       "       [ 2.24505677e+00, -1.00137913e+00, -2.01621058e-01,\n",
       "         7.09321699e-01],\n",
       "       [-5.46367648e-01, -9.53156543e-01,  1.58537901e+00,\n",
       "        -3.97248288e-01],\n",
       "       [-2.26403737e-01, -9.88159815e-01, -1.63415826e-01,\n",
       "        -4.02810695e-01],\n",
       "       [-2.01740914e+00,  8.48743368e-01,  6.97120101e-01,\n",
       "         1.47532322e-01],\n",
       "       [-1.98169634e-01, -5.68219224e-01,  3.81701940e-02,\n",
       "        -1.97885421e-01],\n",
       "       [ 3.80853455e+00,  3.86906983e-01, -2.70980526e-01,\n",
       "         1.15652683e+00],\n",
       "       [ 6.26675986e+00,  1.85841617e+00, -5.13418543e-01,\n",
       "         1.57952762e+00],\n",
       "       [-1.37703058e+00, -1.67223106e-01,  2.85240143e-01,\n",
       "        -1.88171299e-01],\n",
       "       [-2.27820681e+00,  1.00703408e+00, -4.00046363e-01,\n",
       "         1.39092033e-01],\n",
       "       [ 1.73439561e-01, -1.40174413e+00, -5.00013577e-04,\n",
       "        -5.23404067e-01],\n",
       "       [-2.00826808e+00,  1.08527874e+00,  1.38685245e+00,\n",
       "         4.37888138e-01],\n",
       "       [-2.24442260e+00,  9.05619255e-01, -1.18892745e+00,\n",
       "         7.19999981e-02],\n",
       "       [-8.58737645e-01, -5.46740284e-01, -3.68778061e-01,\n",
       "        -1.76307212e-01],\n",
       "       [-6.28721875e-02, -1.28473396e+00, -7.83028469e-02,\n",
       "        -3.89974245e-01],\n",
       "       [ 3.28028293e-01, -1.06692892e+00,  2.66149671e-01,\n",
       "        -3.85584981e-02],\n",
       "       [-8.95487918e-01, -1.90537198e-01, -6.17520984e-01,\n",
       "        -2.52276543e-01],\n",
       "       [-2.62206933e+00,  1.46245927e+00, -4.09204084e-01,\n",
       "         2.72634318e-01],\n",
       "       [-3.73030787e-01, -1.16243217e+00,  6.67469093e-01,\n",
       "        -5.54336827e-01],\n",
       "       [ 2.68993565e+00,  5.41348875e-01,  9.62262375e-01,\n",
       "        -3.38272082e-01],\n",
       "       [ 2.60744484e+00, -3.66948278e-01, -1.78684571e-01,\n",
       "         1.05381911e+00],\n",
       "       [ 3.78744875e+00,  1.42623972e-01, -4.02690281e-01,\n",
       "         3.19565530e+00],\n",
       "       [ 4.55561128e-01, -1.09921201e+00,  4.78721368e-02,\n",
       "        -1.94849860e-02],\n",
       "       [-1.03177878e+00, -5.67628352e-01,  7.55918725e-01,\n",
       "        -3.88882776e-01],\n",
       "       [-1.17572418e+00, -2.82174357e-01, -6.62106108e-01,\n",
       "        -2.84828104e-01],\n",
       "       [-3.13053760e-01, -1.68601008e-02,  3.66113720e+00,\n",
       "         3.45335082e-02],\n",
       "       [-5.94294426e-01, -1.08430697e+00,  5.26444426e-01,\n",
       "        -5.08115208e-01],\n",
       "       [-1.80272917e+00,  5.85734111e-01,  1.18064203e+00,\n",
       "         5.23191368e-02],\n",
       "       [-2.64540248e+00,  1.57149044e+00, -1.77418700e-01,\n",
       "         1.62952524e-01]])"
      ]
     },
     "execution_count": 19,
     "metadata": {},
     "output_type": "execute_result"
    }
   ],
   "source": [
    "df_pca"
   ]
  },
  {
   "cell_type": "code",
   "execution_count": 20,
   "metadata": {},
   "outputs": [],
   "source": [
    "#Creating a transpose so that the each column is properly arranged\n",
    "\n",
    "pc = np.transpose(df_pca)\n"
   ]
  },
  {
   "cell_type": "code",
   "execution_count": 21,
   "metadata": {},
   "outputs": [],
   "source": [
    "pcs_df2 = pd.DataFrame({'PC1':pc[0],'PC2':pc[1],'PC3':pc[2],'PC4':pc[3]})"
   ]
  },
  {
   "cell_type": "code",
   "execution_count": 22,
   "metadata": {},
   "outputs": [
    {
     "data": {
      "text/html": [
       "<div>\n",
       "<style scoped>\n",
       "    .dataframe tbody tr th:only-of-type {\n",
       "        vertical-align: middle;\n",
       "    }\n",
       "\n",
       "    .dataframe tbody tr th {\n",
       "        vertical-align: top;\n",
       "    }\n",
       "\n",
       "    .dataframe thead th {\n",
       "        text-align: right;\n",
       "    }\n",
       "</style>\n",
       "<table border=\"1\" class=\"dataframe\">\n",
       "  <thead>\n",
       "    <tr style=\"text-align: right;\">\n",
       "      <th></th>\n",
       "      <th>PC1</th>\n",
       "      <th>PC2</th>\n",
       "      <th>PC3</th>\n",
       "      <th>PC4</th>\n",
       "    </tr>\n",
       "  </thead>\n",
       "  <tbody>\n",
       "    <tr>\n",
       "      <th>0</th>\n",
       "      <td>-2.636647</td>\n",
       "      <td>1.472085</td>\n",
       "      <td>-0.546500</td>\n",
       "      <td>0.237267</td>\n",
       "    </tr>\n",
       "    <tr>\n",
       "      <th>1</th>\n",
       "      <td>-0.023845</td>\n",
       "      <td>-1.435816</td>\n",
       "      <td>-0.009080</td>\n",
       "      <td>-0.442921</td>\n",
       "    </tr>\n",
       "    <tr>\n",
       "      <th>2</th>\n",
       "      <td>-0.459260</td>\n",
       "      <td>-0.678794</td>\n",
       "      <td>0.967852</td>\n",
       "      <td>-0.176389</td>\n",
       "    </tr>\n",
       "    <tr>\n",
       "      <th>3</th>\n",
       "      <td>-2.723581</td>\n",
       "      <td>2.176018</td>\n",
       "      <td>0.597794</td>\n",
       "      <td>0.438919</td>\n",
       "    </tr>\n",
       "    <tr>\n",
       "      <th>4</th>\n",
       "      <td>0.648777</td>\n",
       "      <td>-1.026498</td>\n",
       "      <td>-0.244170</td>\n",
       "      <td>-0.267513</td>\n",
       "    </tr>\n",
       "  </tbody>\n",
       "</table>\n",
       "</div>"
      ],
      "text/plain": [
       "        PC1       PC2       PC3       PC4\n",
       "0 -2.636647  1.472085 -0.546500  0.237267\n",
       "1 -0.023845 -1.435816 -0.009080 -0.442921\n",
       "2 -0.459260 -0.678794  0.967852 -0.176389\n",
       "3 -2.723581  2.176018  0.597794  0.438919\n",
       "4  0.648777 -1.026498 -0.244170 -0.267513"
      ]
     },
     "execution_count": 22,
     "metadata": {},
     "output_type": "execute_result"
    }
   ],
   "source": [
    "pcs_df2.head()"
   ]
  },
  {
   "cell_type": "markdown",
   "metadata": {},
   "source": [
    "### Outlier Analysis"
   ]
  },
  {
   "cell_type": "code",
   "execution_count": 101,
   "metadata": {},
   "outputs": [],
   "source": [
    "#Let's do the outlier analysis before proceeding to clustering\n",
    "#Here we are not removing any Outliers we just analysis\n",
    "\n",
    "Q1 = pcs_df2.PC1.quantile(0.05)\n",
    "Q3 = pcs_df2.PC1.quantile(0.95)\n",
    "IQR = Q3 - Q1\n",
    "pcs_df_new = pcs_df2[(pcs_df2.PC1 >= Q1 - 1.5*IQR) & (pcs_df2.PC1 <= Q3+1.5*IQR )]"
   ]
  },
  {
   "cell_type": "code",
   "execution_count": 102,
   "metadata": {},
   "outputs": [
    {
     "data": {
      "text/plain": [
       "{'whiskers': [<matplotlib.lines.Line2D at 0x464e2b0>,\n",
       "  <matplotlib.lines.Line2D at 0x124c7070>],\n",
       " 'caps': [<matplotlib.lines.Line2D at 0x124c72d0>,\n",
       "  <matplotlib.lines.Line2D at 0x124c7750>],\n",
       " 'boxes': [<matplotlib.lines.Line2D at 0x12424dd0>],\n",
       " 'medians': [<matplotlib.lines.Line2D at 0x124c79d0>],\n",
       " 'fliers': [<matplotlib.lines.Line2D at 0x124c7a10>],\n",
       " 'means': []}"
      ]
     },
     "execution_count": 102,
     "metadata": {},
     "output_type": "execute_result"
    },
    {
     "data": {
      "image/png": "[encoded data removed]",
      "text/plain": [
       "<Figure size 432x288 with 1 Axes>"
      ]
     },
     "metadata": {
      "needs_background": "light"
     },
     "output_type": "display_data"
    }
   ],
   "source": [
    "plt.boxplot(pcs_df_new.PC1)"
   ]
  },
  {
   "cell_type": "code",
   "execution_count": 103,
   "metadata": {},
   "outputs": [],
   "source": [
    "\n",
    "Q1 = pcs_df2.PC2.quantile(0.05)\n",
    "Q3 = pcs_df2.PC2.quantile(0.95)\n",
    "IQR = Q3 - Q1\n",
    "pcs_df_new = pcs_df2[(pcs_df2.PC2 >=  Q1 - 1.5*IQR ) & (pcs_df2.PC2 <= Q3+1.5*IQR)]"
   ]
  },
  {
   "cell_type": "code",
   "execution_count": 104,
   "metadata": {},
   "outputs": [
    {
     "data": {
      "text/plain": [
       "{'whiskers': [<matplotlib.lines.Line2D at 0x12550e50>,\n",
       "  <matplotlib.lines.Line2D at 0x1255e030>],\n",
       " 'caps': [<matplotlib.lines.Line2D at 0x1255e290>,\n",
       "  <matplotlib.lines.Line2D at 0x1255e6d0>],\n",
       " 'boxes': [<matplotlib.lines.Line2D at 0x12550d90>],\n",
       " 'medians': [<matplotlib.lines.Line2D at 0x1255e950>],\n",
       " 'fliers': [<matplotlib.lines.Line2D at 0x1255e990>],\n",
       " 'means': []}"
      ]
     },
     "execution_count": 104,
     "metadata": {},
     "output_type": "execute_result"
    },
    {
     "data": {
      "image/png": "[encoded data removed]",
      "text/plain": [
       "<Figure size 432x288 with 1 Axes>"
      ]
     },
     "metadata": {
      "needs_background": "light"
     },
     "output_type": "display_data"
    }
   ],
   "source": [
    "plt.boxplot(pcs_df_new.PC2)"
   ]
  },
  {
   "cell_type": "code",
   "execution_count": 105,
   "metadata": {},
   "outputs": [],
   "source": [
    "Q1 = pcs_df2.PC2.quantile(0.05)\n",
    "Q3 = pcs_df2.PC2.quantile(0.95)\n",
    "IQR = Q3 - Q1\n",
    "pcs_df_new = pcs_df2[(pcs_df2.PC3 >=  Q1 - 1.5*IQR ) & (pcs_df2.PC3 <= Q3+1.5*IQR)]"
   ]
  },
  {
   "cell_type": "code",
   "execution_count": 106,
   "metadata": {},
   "outputs": [
    {
     "data": {
      "text/plain": [
       "{'whiskers': [<matplotlib.lines.Line2D at 0x125cf8d0>,\n",
       "  <matplotlib.lines.Line2D at 0x450de50>],\n",
       " 'caps': [<matplotlib.lines.Line2D at 0x450d1b0>,\n",
       "  <matplotlib.lines.Line2D at 0x450d3d0>],\n",
       " 'boxes': [<matplotlib.lines.Line2D at 0xf838370>],\n",
       " 'medians': [<matplotlib.lines.Line2D at 0x450dcb0>],\n",
       " 'fliers': [<matplotlib.lines.Line2D at 0x450df70>],\n",
       " 'means': []}"
      ]
     },
     "execution_count": 106,
     "metadata": {},
     "output_type": "execute_result"
    },
    {
     "data": {
      "image/png": "[encoded data removed]",
      "text/plain": [
       "<Figure size 432x288 with 1 Axes>"
      ]
     },
     "metadata": {
      "needs_background": "light"
     },
     "output_type": "display_data"
    }
   ],
   "source": [
    "plt.boxplot(pcs_df_new.PC3)"
   ]
  },
  {
   "cell_type": "code",
   "execution_count": 107,
   "metadata": {},
   "outputs": [],
   "source": [
    "Q1 = pcs_df2.PC4.quantile(0.05)\n",
    "Q3 = pcs_df2.PC4.quantile(0.95)\n",
    "IQR = Q3 - Q1\n",
    "pcs_df_new = pcs_df2[(pcs_df2.PC4 >=  Q1 - 1.5*IQR ) & (pcs_df2.PC2 <= Q3+1.5*IQR)]"
   ]
  },
  {
   "cell_type": "code",
   "execution_count": 108,
   "metadata": {},
   "outputs": [
    {
     "data": {
      "text/plain": [
       "{'whiskers': [<matplotlib.lines.Line2D at 0x4512a90>,\n",
       "  <matplotlib.lines.Line2D at 0x125df350>],\n",
       " 'caps': [<matplotlib.lines.Line2D at 0x125df3d0>,\n",
       "  <matplotlib.lines.Line2D at 0x125df850>],\n",
       " 'boxes': [<matplotlib.lines.Line2D at 0x10def5f0>],\n",
       " 'medians': [<matplotlib.lines.Line2D at 0x125dfad0>],\n",
       " 'fliers': [<matplotlib.lines.Line2D at 0x125dfb10>],\n",
       " 'means': []}"
      ]
     },
     "execution_count": 108,
     "metadata": {},
     "output_type": "execute_result"
    },
    {
     "data": {
      "image/png": "[encoded data removed]",
      "text/plain": [
       "<Figure size 432x288 with 1 Axes>"
      ]
     },
     "metadata": {
      "needs_background": "light"
     },
     "output_type": "display_data"
    }
   ],
   "source": [
    "plt.boxplot(pcs_df_new.PC4)"
   ]
  },
  {
   "cell_type": "code",
   "execution_count": 27,
   "metadata": {},
   "outputs": [
    {
     "data": {
      "text/plain": [
       "(167, 4)"
      ]
     },
     "execution_count": 27,
     "metadata": {},
     "output_type": "execute_result"
    }
   ],
   "source": [
    "pcs_df2.shape"
   ]
  },
  {
   "cell_type": "code",
   "execution_count": 28,
   "metadata": {},
   "outputs": [
    {
     "data": {
      "text/plain": [
       "<matplotlib.axes._subplots.AxesSubplot at 0xf011790>"
      ]
     },
     "execution_count": 28,
     "metadata": {},
     "output_type": "execute_result"
    },
    {
     "data": {
      "image/png": "[encoded data removed]",
      "text/plain": [
       "<Figure size 432x288 with 1 Axes>"
      ]
     },
     "metadata": {
      "needs_background": "light"
     },
     "output_type": "display_data"
    }
   ],
   "source": [
    "#Visualising the points on the PCs.\n",
    "# one of the prime advatanges of PCA is that you can visualise high dimensional data\n",
    "\n",
    "sns.scatterplot(x='PC1',y='PC2',data=pcs_df2)"
   ]
  },
  {
   "cell_type": "markdown",
   "metadata": {},
   "source": [
    "## Clustering "
   ]
  },
  {
   "cell_type": "markdown",
   "metadata": {},
   "source": [
    "### Hopkins statistic"
   ]
  },
  {
   "cell_type": "code",
   "execution_count": 29,
   "metadata": {},
   "outputs": [],
   "source": [
    "#Calculating the Hopkins statistic\n",
    "from sklearn.neighbors import NearestNeighbors\n",
    "from random import sample\n",
    "from numpy.random import uniform\n",
    "import numpy as np\n",
    "from math import isnan\n",
    " \n",
    "def hopkins(X):\n",
    "    d = X.shape[1]\n",
    "    #d = len(vars) # columns\n",
    "    n = len(X) # rows\n",
    "    m = int(0.1 * n) \n",
    "    nbrs = NearestNeighbors(n_neighbors=1).fit(X.values)\n",
    " \n",
    "    rand_X = sample(range(0, n, 1), m)\n",
    " \n",
    "    ujd = []\n",
    "    wjd = []\n",
    "    for j in range(0, m):\n",
    "        u_dist, _ = nbrs.kneighbors(uniform(np.amin(X,axis=0),np.amax(X,axis=0),d).reshape(1, -1), 2, return_distance=True)\n",
    "        ujd.append(u_dist[0][1])\n",
    "        w_dist, _ = nbrs.kneighbors(X.iloc[rand_X[j]].values.reshape(1, -1), 2, return_distance=True)\n",
    "        wjd.append(w_dist[0][1])\n",
    " \n",
    "    H = sum(ujd) / (sum(ujd) + sum(wjd))\n",
    "    if isnan(H):\n",
    "        print(ujd, wjd)\n",
    "        H = 0\n",
    " \n",
    "    return H"
   ]
  },
  {
   "cell_type": "code",
   "execution_count": 30,
   "metadata": {},
   "outputs": [
    {
     "data": {
      "text/plain": [
       "0.9216092615630382"
      ]
     },
     "execution_count": 30,
     "metadata": {},
     "output_type": "execute_result"
    }
   ],
   "source": [
    "hopkins(pcs_df2)"
   ]
  },
  {
   "cell_type": "code",
   "execution_count": 31,
   "metadata": {},
   "outputs": [],
   "source": [
    "dat3_1 = pcs_df2"
   ]
  },
  {
   "cell_type": "markdown",
   "metadata": {},
   "source": [
    "### silhouette score analysis"
   ]
  },
  {
   "cell_type": "code",
   "execution_count": 32,
   "metadata": {},
   "outputs": [],
   "source": [
    "#First we'll do the silhouette score analysis\n",
    "from sklearn.cluster import KMeans\n",
    "from sklearn.metrics import silhouette_score\n",
    "sse_ = []\n",
    "for k in range(2, 10):\n",
    "    kmeans = KMeans(n_clusters=k).fit(dat3_1)\n",
    "    sse_.append([k, silhouette_score(dat3_1, kmeans.labels_)])"
   ]
  },
  {
   "cell_type": "code",
   "execution_count": 33,
   "metadata": {},
   "outputs": [
    {
     "data": {
      "image/png": "[encoded data removed]",
      "text/plain": [
       "<Figure size 432x288 with 1 Axes>"
      ]
     },
     "metadata": {
      "needs_background": "light"
     },
     "output_type": "display_data"
    }
   ],
   "source": [
    "plt.plot(pd.DataFrame(sse_)[0], pd.DataFrame(sse_)[1]);"
   ]
  },
  {
   "cell_type": "markdown",
   "metadata": {},
   "source": [
    "From the above analysis we find that 3 seems to be a good number of clusters for K means algorithm"
   ]
  },
  {
   "cell_type": "markdown",
   "metadata": {},
   "source": [
    "### elbow curve method"
   ]
  },
  {
   "cell_type": "code",
   "execution_count": 34,
   "metadata": {},
   "outputs": [
    {
     "data": {
      "text/plain": [
       "[<matplotlib.lines.Line2D at 0xf861d50>]"
      ]
     },
     "execution_count": 34,
     "metadata": {},
     "output_type": "execute_result"
    },
    {
     "data": {
      "image/png": "[encoded data removed]",
      "text/plain": [
       "<Figure size 432x288 with 1 Axes>"
      ]
     },
     "metadata": {
      "needs_background": "light"
     },
     "output_type": "display_data"
    }
   ],
   "source": [
    "\n",
    "ssd = []\n",
    "for num_clusters in list(range(1,10)):\n",
    "    model_clus = KMeans(n_clusters = num_clusters, max_iter=50)\n",
    "    model_clus.fit(dat3_1)\n",
    "    ssd.append(model_clus.inertia_)\n",
    "\n",
    "plt.plot(ssd)"
   ]
  },
  {
   "cell_type": "markdown",
   "metadata": {},
   "source": [
    "## KMeans Clustering"
   ]
  },
  {
   "cell_type": "code",
   "execution_count": 61,
   "metadata": {},
   "outputs": [
    {
     "data": {
      "text/plain": [
       "KMeans(algorithm='auto', copy_x=True, init='k-means++', max_iter=50,\n",
       "    n_clusters=3, n_init=10, n_jobs=None, precompute_distances='auto',\n",
       "    random_state=100, tol=0.0001, verbose=0)"
      ]
     },
     "execution_count": 61,
     "metadata": {},
     "output_type": "execute_result"
    }
   ],
   "source": [
    "#Let's perform K means using K=3\n",
    "model_clus2 = KMeans(n_clusters = 3, max_iter=50,random_state = 100)\n",
    "model_clus2.fit(dat3_1)"
   ]
  },
  {
   "cell_type": "code",
   "execution_count": 62,
   "metadata": {},
   "outputs": [
    {
     "data": {
      "text/html": [
       "<div>\n",
       "<style scoped>\n",
       "    .dataframe tbody tr th:only-of-type {\n",
       "        vertical-align: middle;\n",
       "    }\n",
       "\n",
       "    .dataframe tbody tr th {\n",
       "        vertical-align: top;\n",
       "    }\n",
       "\n",
       "    .dataframe thead th {\n",
       "        text-align: right;\n",
       "    }\n",
       "</style>\n",
       "<table border=\"1\" class=\"dataframe\">\n",
       "  <thead>\n",
       "    <tr style=\"text-align: right;\">\n",
       "      <th></th>\n",
       "      <th>PC1</th>\n",
       "      <th>PC2</th>\n",
       "      <th>PC3</th>\n",
       "      <th>PC4</th>\n",
       "      <th>ClusterID</th>\n",
       "    </tr>\n",
       "  </thead>\n",
       "  <tbody>\n",
       "    <tr>\n",
       "      <th>0</th>\n",
       "      <td>-2.636647</td>\n",
       "      <td>1.472085</td>\n",
       "      <td>-0.546500</td>\n",
       "      <td>0.237267</td>\n",
       "      <td>2</td>\n",
       "    </tr>\n",
       "    <tr>\n",
       "      <th>1</th>\n",
       "      <td>-0.023845</td>\n",
       "      <td>-1.435816</td>\n",
       "      <td>-0.009080</td>\n",
       "      <td>-0.442921</td>\n",
       "      <td>1</td>\n",
       "    </tr>\n",
       "    <tr>\n",
       "      <th>2</th>\n",
       "      <td>-0.459260</td>\n",
       "      <td>-0.678794</td>\n",
       "      <td>0.967852</td>\n",
       "      <td>-0.176389</td>\n",
       "      <td>1</td>\n",
       "    </tr>\n",
       "    <tr>\n",
       "      <th>3</th>\n",
       "      <td>-2.723581</td>\n",
       "      <td>2.176018</td>\n",
       "      <td>0.597794</td>\n",
       "      <td>0.438919</td>\n",
       "      <td>2</td>\n",
       "    </tr>\n",
       "    <tr>\n",
       "      <th>4</th>\n",
       "      <td>0.648777</td>\n",
       "      <td>-1.026498</td>\n",
       "      <td>-0.244170</td>\n",
       "      <td>-0.267513</td>\n",
       "      <td>1</td>\n",
       "    </tr>\n",
       "  </tbody>\n",
       "</table>\n",
       "</div>"
      ],
      "text/plain": [
       "        PC1       PC2       PC3       PC4  ClusterID\n",
       "0 -2.636647  1.472085 -0.546500  0.237267          2\n",
       "1 -0.023845 -1.435816 -0.009080 -0.442921          1\n",
       "2 -0.459260 -0.678794  0.967852 -0.176389          1\n",
       "3 -2.723581  2.176018  0.597794  0.438919          2\n",
       "4  0.648777 -1.026498 -0.244170 -0.267513          1"
      ]
     },
     "execution_count": 62,
     "metadata": {},
     "output_type": "execute_result"
    }
   ],
   "source": [
    "datkmeans=pcs_df2\n",
    "datkmeans.index = pd.RangeIndex(len(datkmeans.index))\n",
    "dat_km = pd.concat([datkmeans, pd.Series(model_clus2.labels_)], axis=1)\n",
    "dat_km.columns = ['PC1', 'PC2','PC3','PC4','ClusterID']\n",
    "dat_km.head()"
   ]
  },
  {
   "cell_type": "code",
   "execution_count": 63,
   "metadata": {},
   "outputs": [
    {
     "data": {
      "text/plain": [
       "1    91\n",
       "2    48\n",
       "0    28\n",
       "Name: ClusterID, dtype: int64"
      ]
     },
     "execution_count": 63,
     "metadata": {},
     "output_type": "execute_result"
    }
   ],
   "source": [
    "dat_km['ClusterID'].value_counts()"
   ]
  },
  {
   "cell_type": "code",
   "execution_count": 64,
   "metadata": {},
   "outputs": [
    {
     "data": {
      "text/plain": [
       "<matplotlib.axes._subplots.AxesSubplot at 0x10c8ec30>"
      ]
     },
     "execution_count": 64,
     "metadata": {},
     "output_type": "execute_result"
    },
    {
     "data": {
      "image/png": "[encoded data removed]",
      "text/plain": [
       "<Figure size 432x288 with 1 Axes>"
      ]
     },
     "metadata": {
      "needs_background": "light"
     },
     "output_type": "display_data"
    }
   ],
   "source": [
    "sns.scatterplot(x='PC1',y='PC2',hue='ClusterID',legend='full',data=dat_km)"
   ]
  },
  {
   "cell_type": "code",
   "execution_count": 65,
   "metadata": {},
   "outputs": [
    {
     "data": {
      "text/html": [
       "<div>\n",
       "<style scoped>\n",
       "    .dataframe tbody tr th:only-of-type {\n",
       "        vertical-align: middle;\n",
       "    }\n",
       "\n",
       "    .dataframe tbody tr th {\n",
       "        vertical-align: top;\n",
       "    }\n",
       "\n",
       "    .dataframe thead th {\n",
       "        text-align: right;\n",
       "    }\n",
       "</style>\n",
       "<table border=\"1\" class=\"dataframe\">\n",
       "  <thead>\n",
       "    <tr style=\"text-align: right;\">\n",
       "      <th></th>\n",
       "      <th>child_mort</th>\n",
       "      <th>income</th>\n",
       "      <th>inflation</th>\n",
       "      <th>life_expec</th>\n",
       "      <th>total_fer</th>\n",
       "      <th>gdpp</th>\n",
       "      <th>Exports</th>\n",
       "      <th>Health</th>\n",
       "      <th>Imports</th>\n",
       "      <th>PC1</th>\n",
       "      <th>PC2</th>\n",
       "      <th>PC3</th>\n",
       "      <th>PC4</th>\n",
       "      <th>ClusterID</th>\n",
       "    </tr>\n",
       "  </thead>\n",
       "  <tbody>\n",
       "    <tr>\n",
       "      <th>0</th>\n",
       "      <td>90.2</td>\n",
       "      <td>1610</td>\n",
       "      <td>9.44</td>\n",
       "      <td>56.2</td>\n",
       "      <td>5.82</td>\n",
       "      <td>553</td>\n",
       "      <td>55.30</td>\n",
       "      <td>41.9174</td>\n",
       "      <td>248.297</td>\n",
       "      <td>-2.636647</td>\n",
       "      <td>1.472085</td>\n",
       "      <td>-0.546500</td>\n",
       "      <td>0.237267</td>\n",
       "      <td>2</td>\n",
       "    </tr>\n",
       "    <tr>\n",
       "      <th>1</th>\n",
       "      <td>16.6</td>\n",
       "      <td>9930</td>\n",
       "      <td>4.49</td>\n",
       "      <td>76.3</td>\n",
       "      <td>1.65</td>\n",
       "      <td>4090</td>\n",
       "      <td>1145.20</td>\n",
       "      <td>267.8950</td>\n",
       "      <td>1987.740</td>\n",
       "      <td>-0.023845</td>\n",
       "      <td>-1.435816</td>\n",
       "      <td>-0.009080</td>\n",
       "      <td>-0.442921</td>\n",
       "      <td>1</td>\n",
       "    </tr>\n",
       "    <tr>\n",
       "      <th>2</th>\n",
       "      <td>27.3</td>\n",
       "      <td>12900</td>\n",
       "      <td>16.10</td>\n",
       "      <td>76.5</td>\n",
       "      <td>2.89</td>\n",
       "      <td>4460</td>\n",
       "      <td>1712.64</td>\n",
       "      <td>185.9820</td>\n",
       "      <td>1400.440</td>\n",
       "      <td>-0.459260</td>\n",
       "      <td>-0.678794</td>\n",
       "      <td>0.967852</td>\n",
       "      <td>-0.176389</td>\n",
       "      <td>1</td>\n",
       "    </tr>\n",
       "    <tr>\n",
       "      <th>3</th>\n",
       "      <td>119.0</td>\n",
       "      <td>5900</td>\n",
       "      <td>22.40</td>\n",
       "      <td>60.1</td>\n",
       "      <td>6.16</td>\n",
       "      <td>3530</td>\n",
       "      <td>2199.19</td>\n",
       "      <td>100.6050</td>\n",
       "      <td>1514.370</td>\n",
       "      <td>-2.723581</td>\n",
       "      <td>2.176018</td>\n",
       "      <td>0.597794</td>\n",
       "      <td>0.438919</td>\n",
       "      <td>2</td>\n",
       "    </tr>\n",
       "    <tr>\n",
       "      <th>4</th>\n",
       "      <td>10.3</td>\n",
       "      <td>19100</td>\n",
       "      <td>1.44</td>\n",
       "      <td>76.8</td>\n",
       "      <td>2.13</td>\n",
       "      <td>12200</td>\n",
       "      <td>5551.00</td>\n",
       "      <td>735.6600</td>\n",
       "      <td>7185.800</td>\n",
       "      <td>0.648777</td>\n",
       "      <td>-1.026498</td>\n",
       "      <td>-0.244170</td>\n",
       "      <td>-0.267513</td>\n",
       "      <td>1</td>\n",
       "    </tr>\n",
       "  </tbody>\n",
       "</table>\n",
       "</div>"
      ],
      "text/plain": [
       "   child_mort  income  inflation  life_expec  total_fer   gdpp  Exports  \\\n",
       "0        90.2    1610       9.44        56.2       5.82    553    55.30   \n",
       "1        16.6    9930       4.49        76.3       1.65   4090  1145.20   \n",
       "2        27.3   12900      16.10        76.5       2.89   4460  1712.64   \n",
       "3       119.0    5900      22.40        60.1       6.16   3530  2199.19   \n",
       "4        10.3   19100       1.44        76.8       2.13  12200  5551.00   \n",
       "\n",
       "     Health   Imports       PC1       PC2       PC3       PC4  ClusterID  \n",
       "0   41.9174   248.297 -2.636647  1.472085 -0.546500  0.237267          2  \n",
       "1  267.8950  1987.740 -0.023845 -1.435816 -0.009080 -0.442921          1  \n",
       "2  185.9820  1400.440 -0.459260 -0.678794  0.967852 -0.176389          1  \n",
       "3  100.6050  1514.370 -2.723581  2.176018  0.597794  0.438919          2  \n",
       "4  735.6600  7185.800  0.648777 -1.026498 -0.244170 -0.267513          1  "
      ]
     },
     "execution_count": 65,
     "metadata": {},
     "output_type": "execute_result"
    }
   ],
   "source": [
    "dat=pd.merge(Country_df,dat_km, left_index=True,right_index=True)\n",
    "dat.head()"
   ]
  },
  {
   "cell_type": "code",
   "execution_count": 90,
   "metadata": {},
   "outputs": [
    {
     "data": {
      "text/html": [
       "<div>\n",
       "<style scoped>\n",
       "    .dataframe tbody tr th:only-of-type {\n",
       "        vertical-align: middle;\n",
       "    }\n",
       "\n",
       "    .dataframe tbody tr th {\n",
       "        vertical-align: top;\n",
       "    }\n",
       "\n",
       "    .dataframe thead th {\n",
       "        text-align: right;\n",
       "    }\n",
       "</style>\n",
       "<table border=\"1\" class=\"dataframe\">\n",
       "  <thead>\n",
       "    <tr style=\"text-align: right;\">\n",
       "      <th></th>\n",
       "      <th>child_mort</th>\n",
       "      <th>income</th>\n",
       "      <th>inflation</th>\n",
       "      <th>life_expec</th>\n",
       "      <th>total_fer</th>\n",
       "      <th>gdpp</th>\n",
       "      <th>Exports</th>\n",
       "      <th>Health</th>\n",
       "      <th>Imports</th>\n",
       "      <th>ClusterID</th>\n",
       "    </tr>\n",
       "  </thead>\n",
       "  <tbody>\n",
       "    <tr>\n",
       "      <th>0</th>\n",
       "      <td>90.2</td>\n",
       "      <td>1610</td>\n",
       "      <td>9.44</td>\n",
       "      <td>56.2</td>\n",
       "      <td>5.82</td>\n",
       "      <td>553</td>\n",
       "      <td>55.30</td>\n",
       "      <td>41.9174</td>\n",
       "      <td>248.297</td>\n",
       "      <td>2</td>\n",
       "    </tr>\n",
       "    <tr>\n",
       "      <th>1</th>\n",
       "      <td>16.6</td>\n",
       "      <td>9930</td>\n",
       "      <td>4.49</td>\n",
       "      <td>76.3</td>\n",
       "      <td>1.65</td>\n",
       "      <td>4090</td>\n",
       "      <td>1145.20</td>\n",
       "      <td>267.8950</td>\n",
       "      <td>1987.740</td>\n",
       "      <td>1</td>\n",
       "    </tr>\n",
       "    <tr>\n",
       "      <th>2</th>\n",
       "      <td>27.3</td>\n",
       "      <td>12900</td>\n",
       "      <td>16.10</td>\n",
       "      <td>76.5</td>\n",
       "      <td>2.89</td>\n",
       "      <td>4460</td>\n",
       "      <td>1712.64</td>\n",
       "      <td>185.9820</td>\n",
       "      <td>1400.440</td>\n",
       "      <td>1</td>\n",
       "    </tr>\n",
       "    <tr>\n",
       "      <th>3</th>\n",
       "      <td>119.0</td>\n",
       "      <td>5900</td>\n",
       "      <td>22.40</td>\n",
       "      <td>60.1</td>\n",
       "      <td>6.16</td>\n",
       "      <td>3530</td>\n",
       "      <td>2199.19</td>\n",
       "      <td>100.6050</td>\n",
       "      <td>1514.370</td>\n",
       "      <td>2</td>\n",
       "    </tr>\n",
       "    <tr>\n",
       "      <th>4</th>\n",
       "      <td>10.3</td>\n",
       "      <td>19100</td>\n",
       "      <td>1.44</td>\n",
       "      <td>76.8</td>\n",
       "      <td>2.13</td>\n",
       "      <td>12200</td>\n",
       "      <td>5551.00</td>\n",
       "      <td>735.6600</td>\n",
       "      <td>7185.800</td>\n",
       "      <td>1</td>\n",
       "    </tr>\n",
       "  </tbody>\n",
       "</table>\n",
       "</div>"
      ],
      "text/plain": [
       "   child_mort  income  inflation  life_expec  total_fer   gdpp  Exports  \\\n",
       "0        90.2    1610       9.44        56.2       5.82    553    55.30   \n",
       "1        16.6    9930       4.49        76.3       1.65   4090  1145.20   \n",
       "2        27.3   12900      16.10        76.5       2.89   4460  1712.64   \n",
       "3       119.0    5900      22.40        60.1       6.16   3530  2199.19   \n",
       "4        10.3   19100       1.44        76.8       2.13  12200  5551.00   \n",
       "\n",
       "     Health   Imports  ClusterID  \n",
       "0   41.9174   248.297          2  \n",
       "1  267.8950  1987.740          1  \n",
       "2  185.9820  1400.440          1  \n",
       "3  100.6050  1514.370          2  \n",
       "4  735.6600  7185.800          1  "
      ]
     },
     "execution_count": 90,
     "metadata": {},
     "output_type": "execute_result"
    }
   ],
   "source": [
    "dat6=dat.drop(['PC1','PC2','PC3','PC4'],axis=1)\n",
    "dat6.head()"
   ]
  },
  {
   "cell_type": "code",
   "execution_count": 67,
   "metadata": {},
   "outputs": [
    {
     "data": {
      "text/plain": [
       "<matplotlib.axes._subplots.AxesSubplot at 0x36bd830>"
      ]
     },
     "execution_count": 67,
     "metadata": {},
     "output_type": "execute_result"
    },
    {
     "data": {
      "image/png": "[encoded data removed]",
      "text/plain": [
       "<Figure size 432x288 with 1 Axes>"
      ]
     },
     "metadata": {
      "needs_background": "light"
     },
     "output_type": "display_data"
    }
   ],
   "source": [
    "sns.boxplot(x='ClusterID', y='child_mort', data=dat6)"
   ]
  },
  {
   "cell_type": "code",
   "execution_count": 68,
   "metadata": {},
   "outputs": [
    {
     "data": {
      "text/plain": [
       "<matplotlib.axes._subplots.AxesSubplot at 0x37083b0>"
      ]
     },
     "execution_count": 68,
     "metadata": {},
     "output_type": "execute_result"
    },
    {
     "data": {
      "image/png": "[encoded data removed]",
      "text/plain": [
       "<Figure size 432x288 with 1 Axes>"
      ]
     },
     "metadata": {
      "needs_background": "light"
     },
     "output_type": "display_data"
    }
   ],
   "source": [
    "sns.boxplot(x='ClusterID', y='gdpp', data=dat6)"
   ]
  },
  {
   "cell_type": "code",
   "execution_count": 69,
   "metadata": {},
   "outputs": [
    {
     "data": {
      "text/plain": [
       "<matplotlib.axes._subplots.AxesSubplot at 0x3751670>"
      ]
     },
     "execution_count": 69,
     "metadata": {},
     "output_type": "execute_result"
    },
    {
     "data": {
      "image/png": "[encoded data removed]",
      "text/plain": [
       "<Figure size 432x288 with 1 Axes>"
      ]
     },
     "metadata": {
      "needs_background": "light"
     },
     "output_type": "display_data"
    }
   ],
   "source": [
    "sns.boxplot(x='ClusterID', y='income', data=dat6)"
   ]
  },
  {
   "cell_type": "code",
   "execution_count": 70,
   "metadata": {},
   "outputs": [],
   "source": [
    "clu_child_mort = pd.DataFrame(dat6.groupby([\"ClusterID\"]).child_mort.mean())\n",
    "clu_gdpp= pd.DataFrame(dat6.groupby([\"ClusterID\"]).gdpp.mean())\n",
    "clu_income = pd.DataFrame(dat6.groupby([\"ClusterID\"]).income.mean())"
   ]
  },
  {
   "cell_type": "code",
   "execution_count": 73,
   "metadata": {},
   "outputs": [],
   "source": [
    "df_kmean= pd.concat([pd.Series([0,1,2]),clu_child_mort,clu_gdpp,clu_income], axis=1)"
   ]
  },
  {
   "cell_type": "code",
   "execution_count": 74,
   "metadata": {},
   "outputs": [
    {
     "data": {
      "text/html": [
       "<div>\n",
       "<style scoped>\n",
       "    .dataframe tbody tr th:only-of-type {\n",
       "        vertical-align: middle;\n",
       "    }\n",
       "\n",
       "    .dataframe tbody tr th {\n",
       "        vertical-align: top;\n",
       "    }\n",
       "\n",
       "    .dataframe thead th {\n",
       "        text-align: right;\n",
       "    }\n",
       "</style>\n",
       "<table border=\"1\" class=\"dataframe\">\n",
       "  <thead>\n",
       "    <tr style=\"text-align: right;\">\n",
       "      <th></th>\n",
       "      <th>ClusterID</th>\n",
       "      <th>child_mort</th>\n",
       "      <th>income</th>\n",
       "      <th>gdpp</th>\n",
       "    </tr>\n",
       "  </thead>\n",
       "  <tbody>\n",
       "    <tr>\n",
       "      <th>0</th>\n",
       "      <td>0</td>\n",
       "      <td>5.046429</td>\n",
       "      <td>48114.285714</td>\n",
       "      <td>50178.571429</td>\n",
       "    </tr>\n",
       "    <tr>\n",
       "      <th>1</th>\n",
       "      <td>1</td>\n",
       "      <td>20.357143</td>\n",
       "      <td>7979.912088</td>\n",
       "      <td>13968.021978</td>\n",
       "    </tr>\n",
       "    <tr>\n",
       "      <th>2</th>\n",
       "      <td>2</td>\n",
       "      <td>91.610417</td>\n",
       "      <td>1909.208333</td>\n",
       "      <td>3897.354167</td>\n",
       "    </tr>\n",
       "  </tbody>\n",
       "</table>\n",
       "</div>"
      ],
      "text/plain": [
       "   ClusterID  child_mort        income          gdpp\n",
       "0          0    5.046429  48114.285714  50178.571429\n",
       "1          1   20.357143   7979.912088  13968.021978\n",
       "2          2   91.610417   1909.208333   3897.354167"
      ]
     },
     "execution_count": 74,
     "metadata": {},
     "output_type": "execute_result"
    }
   ],
   "source": [
    "df_kmean.columns = [\"ClusterID\",\"child_mort\",\"income\",\"gdpp\"]\n",
    "df_kmean"
   ]
  },
  {
   "cell_type": "code",
   "execution_count": 88,
   "metadata": {},
   "outputs": [
    {
     "data": {
      "text/plain": [
       "<matplotlib.axes._subplots.AxesSubplot at 0x11028f30>"
      ]
     },
     "execution_count": 88,
     "metadata": {},
     "output_type": "execute_result"
    },
    {
     "data": {
      "image/png": "[encoded data removed]",
      "text/plain": [
       "<Figure size 432x288 with 1 Axes>"
      ]
     },
     "metadata": {
      "needs_background": "light"
     },
     "output_type": "display_data"
    }
   ],
   "source": [
    "sns.scatterplot(x='child_mort',y='income',data=dat6)"
   ]
  },
  {
   "cell_type": "markdown",
   "metadata": {},
   "source": [
    "Here we can easily find that if the child mort is high than income of the country is very low. so we can consider that country which have low gdpp and high child mort."
   ]
  },
  {
   "cell_type": "code",
   "execution_count": 89,
   "metadata": {},
   "outputs": [
    {
     "data": {
      "text/plain": [
       "<matplotlib.axes._subplots.AxesSubplot at 0x4644ab0>"
      ]
     },
     "execution_count": 89,
     "metadata": {},
     "output_type": "execute_result"
    },
    {
     "data": {
      "image/png": "[encoded data removed]",
      "text/plain": [
       "<Figure size 432x288 with 1 Axes>"
      ]
     },
     "metadata": {
      "needs_background": "light"
     },
     "output_type": "display_data"
    }
   ],
   "source": [
    "sns.scatterplot(x='child_mort',y='gdpp',data=dat6)"
   ]
  },
  {
   "cell_type": "markdown",
   "metadata": {},
   "source": [
    "Here we can easily find that if the child mort is high than gdpp of the country is very low. so we can consider that country which have low gdpp and high child mort."
   ]
  },
  {
   "cell_type": "code",
   "execution_count": 110,
   "metadata": {},
   "outputs": [
    {
     "data": {
      "text/html": [
       "<div>\n",
       "<style scoped>\n",
       "    .dataframe tbody tr th:only-of-type {\n",
       "        vertical-align: middle;\n",
       "    }\n",
       "\n",
       "    .dataframe tbody tr th {\n",
       "        vertical-align: top;\n",
       "    }\n",
       "\n",
       "    .dataframe thead th {\n",
       "        text-align: right;\n",
       "    }\n",
       "</style>\n",
       "<table border=\"1\" class=\"dataframe\">\n",
       "  <thead>\n",
       "    <tr style=\"text-align: right;\">\n",
       "      <th></th>\n",
       "      <th>country</th>\n",
       "      <th>child_mort</th>\n",
       "      <th>income</th>\n",
       "      <th>inflation</th>\n",
       "      <th>life_expec</th>\n",
       "      <th>total_fer</th>\n",
       "      <th>gdpp</th>\n",
       "      <th>Exports</th>\n",
       "      <th>Health</th>\n",
       "      <th>Imports</th>\n",
       "    </tr>\n",
       "  </thead>\n",
       "  <tbody>\n",
       "    <tr>\n",
       "      <th>66</th>\n",
       "      <td>Haiti</td>\n",
       "      <td>208.0</td>\n",
       "      <td>1500</td>\n",
       "      <td>5.450</td>\n",
       "      <td>32.1</td>\n",
       "      <td>3.33</td>\n",
       "      <td>662</td>\n",
       "      <td>101.2860</td>\n",
       "      <td>45.7442</td>\n",
       "      <td>428.314</td>\n",
       "    </tr>\n",
       "    <tr>\n",
       "      <th>132</th>\n",
       "      <td>Sierra Leone</td>\n",
       "      <td>160.0</td>\n",
       "      <td>1220</td>\n",
       "      <td>17.200</td>\n",
       "      <td>55.0</td>\n",
       "      <td>5.20</td>\n",
       "      <td>399</td>\n",
       "      <td>67.0320</td>\n",
       "      <td>52.2690</td>\n",
       "      <td>137.655</td>\n",
       "    </tr>\n",
       "    <tr>\n",
       "      <th>31</th>\n",
       "      <td>Central African Republic</td>\n",
       "      <td>149.0</td>\n",
       "      <td>888</td>\n",
       "      <td>2.010</td>\n",
       "      <td>47.5</td>\n",
       "      <td>5.21</td>\n",
       "      <td>446</td>\n",
       "      <td>52.6280</td>\n",
       "      <td>17.7508</td>\n",
       "      <td>118.190</td>\n",
       "    </tr>\n",
       "    <tr>\n",
       "      <th>97</th>\n",
       "      <td>Mali</td>\n",
       "      <td>137.0</td>\n",
       "      <td>1870</td>\n",
       "      <td>4.370</td>\n",
       "      <td>59.5</td>\n",
       "      <td>6.55</td>\n",
       "      <td>708</td>\n",
       "      <td>161.4240</td>\n",
       "      <td>35.2584</td>\n",
       "      <td>248.508</td>\n",
       "    </tr>\n",
       "    <tr>\n",
       "      <th>112</th>\n",
       "      <td>Niger</td>\n",
       "      <td>123.0</td>\n",
       "      <td>814</td>\n",
       "      <td>2.550</td>\n",
       "      <td>58.8</td>\n",
       "      <td>7.49</td>\n",
       "      <td>348</td>\n",
       "      <td>77.2560</td>\n",
       "      <td>17.9568</td>\n",
       "      <td>170.868</td>\n",
       "    </tr>\n",
       "    <tr>\n",
       "      <th>37</th>\n",
       "      <td>Congo, Dem. Rep.</td>\n",
       "      <td>116.0</td>\n",
       "      <td>609</td>\n",
       "      <td>20.800</td>\n",
       "      <td>57.5</td>\n",
       "      <td>6.54</td>\n",
       "      <td>334</td>\n",
       "      <td>137.2740</td>\n",
       "      <td>26.4194</td>\n",
       "      <td>165.664</td>\n",
       "    </tr>\n",
       "    <tr>\n",
       "      <th>25</th>\n",
       "      <td>Burkina Faso</td>\n",
       "      <td>116.0</td>\n",
       "      <td>1430</td>\n",
       "      <td>6.810</td>\n",
       "      <td>57.9</td>\n",
       "      <td>5.87</td>\n",
       "      <td>575</td>\n",
       "      <td>110.4000</td>\n",
       "      <td>38.7550</td>\n",
       "      <td>170.200</td>\n",
       "    </tr>\n",
       "    <tr>\n",
       "      <th>64</th>\n",
       "      <td>Guinea-Bissau</td>\n",
       "      <td>114.0</td>\n",
       "      <td>1390</td>\n",
       "      <td>2.970</td>\n",
       "      <td>55.6</td>\n",
       "      <td>5.05</td>\n",
       "      <td>547</td>\n",
       "      <td>81.5030</td>\n",
       "      <td>46.4950</td>\n",
       "      <td>192.544</td>\n",
       "    </tr>\n",
       "    <tr>\n",
       "      <th>17</th>\n",
       "      <td>Benin</td>\n",
       "      <td>111.0</td>\n",
       "      <td>1820</td>\n",
       "      <td>0.885</td>\n",
       "      <td>61.8</td>\n",
       "      <td>5.36</td>\n",
       "      <td>758</td>\n",
       "      <td>180.4040</td>\n",
       "      <td>31.0780</td>\n",
       "      <td>281.976</td>\n",
       "    </tr>\n",
       "    <tr>\n",
       "      <th>63</th>\n",
       "      <td>Guinea</td>\n",
       "      <td>109.0</td>\n",
       "      <td>1190</td>\n",
       "      <td>16.100</td>\n",
       "      <td>58.0</td>\n",
       "      <td>5.34</td>\n",
       "      <td>648</td>\n",
       "      <td>196.3440</td>\n",
       "      <td>31.9464</td>\n",
       "      <td>279.936</td>\n",
       "    </tr>\n",
       "    <tr>\n",
       "      <th>106</th>\n",
       "      <td>Mozambique</td>\n",
       "      <td>101.0</td>\n",
       "      <td>918</td>\n",
       "      <td>7.640</td>\n",
       "      <td>54.5</td>\n",
       "      <td>5.56</td>\n",
       "      <td>419</td>\n",
       "      <td>131.9850</td>\n",
       "      <td>21.8299</td>\n",
       "      <td>193.578</td>\n",
       "    </tr>\n",
       "    <tr>\n",
       "      <th>26</th>\n",
       "      <td>Burundi</td>\n",
       "      <td>93.6</td>\n",
       "      <td>764</td>\n",
       "      <td>12.300</td>\n",
       "      <td>57.7</td>\n",
       "      <td>6.26</td>\n",
       "      <td>231</td>\n",
       "      <td>20.6052</td>\n",
       "      <td>26.7960</td>\n",
       "      <td>90.552</td>\n",
       "    </tr>\n",
       "  </tbody>\n",
       "</table>\n",
       "</div>"
      ],
      "text/plain": [
       "                      country  child_mort  income  inflation  life_expec  \\\n",
       "66                      Haiti       208.0    1500      5.450        32.1   \n",
       "132              Sierra Leone       160.0    1220     17.200        55.0   \n",
       "31   Central African Republic       149.0     888      2.010        47.5   \n",
       "97                       Mali       137.0    1870      4.370        59.5   \n",
       "112                     Niger       123.0     814      2.550        58.8   \n",
       "37           Congo, Dem. Rep.       116.0     609     20.800        57.5   \n",
       "25               Burkina Faso       116.0    1430      6.810        57.9   \n",
       "64              Guinea-Bissau       114.0    1390      2.970        55.6   \n",
       "17                      Benin       111.0    1820      0.885        61.8   \n",
       "63                     Guinea       109.0    1190     16.100        58.0   \n",
       "106                Mozambique       101.0     918      7.640        54.5   \n",
       "26                    Burundi        93.6     764     12.300        57.7   \n",
       "\n",
       "     total_fer  gdpp   Exports   Health  Imports  \n",
       "66        3.33   662  101.2860  45.7442  428.314  \n",
       "132       5.20   399   67.0320  52.2690  137.655  \n",
       "31        5.21   446   52.6280  17.7508  118.190  \n",
       "97        6.55   708  161.4240  35.2584  248.508  \n",
       "112       7.49   348   77.2560  17.9568  170.868  \n",
       "37        6.54   334  137.2740  26.4194  165.664  \n",
       "25        5.87   575  110.4000  38.7550  170.200  \n",
       "64        5.05   547   81.5030  46.4950  192.544  \n",
       "17        5.36   758  180.4040  31.0780  281.976  \n",
       "63        5.34   648  196.3440  31.9464  279.936  \n",
       "106       5.56   419  131.9850  21.8299  193.578  \n",
       "26        6.26   231   20.6052  26.7960   90.552  "
      ]
     },
     "execution_count": 110,
     "metadata": {},
     "output_type": "execute_result"
    }
   ],
   "source": [
    "c=Country.loc[(Country.child_mort>=91.610417) &(Country.gdpp<=3897.354167)&(Country.income<=1909.208333)]\n",
    "c_df= c.sort_values(['child_mort','gdpp','income'],ascending =[False,True, True])\n",
    "c_df"
   ]
  },
  {
   "cell_type": "code",
   "execution_count": 111,
   "metadata": {},
   "outputs": [
    {
     "data": {
      "text/plain": [
       "(12, 10)"
      ]
     },
     "execution_count": 111,
     "metadata": {},
     "output_type": "execute_result"
    }
   ],
   "source": [
    "c_df.shape"
   ]
  },
  {
   "cell_type": "markdown",
   "metadata": {},
   "source": [
    "## Hierarchical Clustering"
   ]
  },
  {
   "cell_type": "code",
   "execution_count": 77,
   "metadata": {},
   "outputs": [
    {
     "data": {
      "image/png": "[encoded data removed]",
      "text/plain": [
       "<Figure size 1440x864 with 1 Axes>"
      ]
     },
     "metadata": {
      "needs_background": "light"
     },
     "output_type": "display_data"
    }
   ],
   "source": [
    "# single linkage\n",
    "fig = plt.figure(figsize=(20, 12))\n",
    "mergings = linkage(pcs_df2, method=\"single\", metric='euclidean')\n",
    "dendrogram(mergings)\n",
    "plt.show()"
   ]
  },
  {
   "cell_type": "code",
   "execution_count": 78,
   "metadata": {},
   "outputs": [
    {
     "data": {
      "image/png": "[encoded data removed]",
      "text/plain": [
       "<Figure size 1368x792 with 1 Axes>"
      ]
     },
     "metadata": {
      "needs_background": "light"
     },
     "output_type": "display_data"
    }
   ],
   "source": [
    "# complete linkage\n",
    "fig = plt.figure(figsize=(19, 11))\n",
    "mergings = linkage(datkmeans, method=\"complete\", metric='euclidean')\n",
    "dendrogram(mergings)\n",
    "plt.show()"
   ]
  },
  {
   "cell_type": "code",
   "execution_count": 79,
   "metadata": {},
   "outputs": [],
   "source": [
    "# 3 clusters\n",
    "cluster_labels = cut_tree(mergings, n_clusters=3).reshape(-1, )\n"
   ]
  },
  {
   "cell_type": "code",
   "execution_count": 91,
   "metadata": {},
   "outputs": [
    {
     "data": {
      "text/html": [
       "<div>\n",
       "<style scoped>\n",
       "    .dataframe tbody tr th:only-of-type {\n",
       "        vertical-align: middle;\n",
       "    }\n",
       "\n",
       "    .dataframe tbody tr th {\n",
       "        vertical-align: top;\n",
       "    }\n",
       "\n",
       "    .dataframe thead th {\n",
       "        text-align: right;\n",
       "    }\n",
       "</style>\n",
       "<table border=\"1\" class=\"dataframe\">\n",
       "  <thead>\n",
       "    <tr style=\"text-align: right;\">\n",
       "      <th></th>\n",
       "      <th>child_mort</th>\n",
       "      <th>income</th>\n",
       "      <th>inflation</th>\n",
       "      <th>life_expec</th>\n",
       "      <th>total_fer</th>\n",
       "      <th>gdpp</th>\n",
       "      <th>Exports</th>\n",
       "      <th>Health</th>\n",
       "      <th>Imports</th>\n",
       "      <th>ClusterID</th>\n",
       "      <th>cluster_labels</th>\n",
       "    </tr>\n",
       "  </thead>\n",
       "  <tbody>\n",
       "    <tr>\n",
       "      <th>0</th>\n",
       "      <td>90.2</td>\n",
       "      <td>1610</td>\n",
       "      <td>9.44</td>\n",
       "      <td>56.2</td>\n",
       "      <td>5.82</td>\n",
       "      <td>553</td>\n",
       "      <td>55.30</td>\n",
       "      <td>41.9174</td>\n",
       "      <td>248.297</td>\n",
       "      <td>2</td>\n",
       "      <td>0</td>\n",
       "    </tr>\n",
       "    <tr>\n",
       "      <th>1</th>\n",
       "      <td>16.6</td>\n",
       "      <td>9930</td>\n",
       "      <td>4.49</td>\n",
       "      <td>76.3</td>\n",
       "      <td>1.65</td>\n",
       "      <td>4090</td>\n",
       "      <td>1145.20</td>\n",
       "      <td>267.8950</td>\n",
       "      <td>1987.740</td>\n",
       "      <td>1</td>\n",
       "      <td>0</td>\n",
       "    </tr>\n",
       "    <tr>\n",
       "      <th>2</th>\n",
       "      <td>27.3</td>\n",
       "      <td>12900</td>\n",
       "      <td>16.10</td>\n",
       "      <td>76.5</td>\n",
       "      <td>2.89</td>\n",
       "      <td>4460</td>\n",
       "      <td>1712.64</td>\n",
       "      <td>185.9820</td>\n",
       "      <td>1400.440</td>\n",
       "      <td>1</td>\n",
       "      <td>0</td>\n",
       "    </tr>\n",
       "    <tr>\n",
       "      <th>3</th>\n",
       "      <td>119.0</td>\n",
       "      <td>5900</td>\n",
       "      <td>22.40</td>\n",
       "      <td>60.1</td>\n",
       "      <td>6.16</td>\n",
       "      <td>3530</td>\n",
       "      <td>2199.19</td>\n",
       "      <td>100.6050</td>\n",
       "      <td>1514.370</td>\n",
       "      <td>2</td>\n",
       "      <td>0</td>\n",
       "    </tr>\n",
       "    <tr>\n",
       "      <th>4</th>\n",
       "      <td>10.3</td>\n",
       "      <td>19100</td>\n",
       "      <td>1.44</td>\n",
       "      <td>76.8</td>\n",
       "      <td>2.13</td>\n",
       "      <td>12200</td>\n",
       "      <td>5551.00</td>\n",
       "      <td>735.6600</td>\n",
       "      <td>7185.800</td>\n",
       "      <td>1</td>\n",
       "      <td>0</td>\n",
       "    </tr>\n",
       "  </tbody>\n",
       "</table>\n",
       "</div>"
      ],
      "text/plain": [
       "   child_mort  income  inflation  life_expec  total_fer   gdpp  Exports  \\\n",
       "0        90.2    1610       9.44        56.2       5.82    553    55.30   \n",
       "1        16.6    9930       4.49        76.3       1.65   4090  1145.20   \n",
       "2        27.3   12900      16.10        76.5       2.89   4460  1712.64   \n",
       "3       119.0    5900      22.40        60.1       6.16   3530  2199.19   \n",
       "4        10.3   19100       1.44        76.8       2.13  12200  5551.00   \n",
       "\n",
       "     Health   Imports  ClusterID  cluster_labels  \n",
       "0   41.9174   248.297          2               0  \n",
       "1  267.8950  1987.740          1               0  \n",
       "2  185.9820  1400.440          1               0  \n",
       "3  100.6050  1514.370          2               0  \n",
       "4  735.6600  7185.800          1               0  "
      ]
     },
     "execution_count": 91,
     "metadata": {},
     "output_type": "execute_result"
    }
   ],
   "source": [
    "dat6['cluster_labels'] = cluster_labels\n",
    "dat6.head()"
   ]
  },
  {
   "cell_type": "markdown",
   "metadata": {},
   "source": [
    "### Hierarchical Clustering Analysis"
   ]
  },
  {
   "cell_type": "code",
   "execution_count": 99,
   "metadata": {},
   "outputs": [
    {
     "data": {
      "text/plain": [
       "<matplotlib.axes._subplots.AxesSubplot at 0x111dbe10>"
      ]
     },
     "execution_count": 99,
     "metadata": {},
     "output_type": "execute_result"
    },
    {
     "data": {
      "image/png": "[encoded data removed]",
      "text/plain": [
       "<Figure size 432x288 with 1 Axes>"
      ]
     },
     "metadata": {
      "needs_background": "light"
     },
     "output_type": "display_data"
    }
   ],
   "source": [
    "sns.scatterplot(x='child_mort',y='income',data=dat6)"
   ]
  },
  {
   "cell_type": "code",
   "execution_count": 100,
   "metadata": {},
   "outputs": [
    {
     "data": {
      "text/plain": [
       "<matplotlib.axes._subplots.AxesSubplot at 0x111edd10>"
      ]
     },
     "execution_count": 100,
     "metadata": {},
     "output_type": "execute_result"
    },
    {
     "data": {
      "image/png": "[encoded data removed]",
      "text/plain": [
       "<Figure size 432x288 with 1 Axes>"
      ]
     },
     "metadata": {
      "needs_background": "light"
     },
     "output_type": "display_data"
    }
   ],
   "source": [
    "sns.scatterplot(x='child_mort',y='gdpp',data=dat6)"
   ]
  },
  {
   "cell_type": "markdown",
   "metadata": {},
   "source": [
    "as see above both scatter plot can easily conclude that we have to choose that country which one have high child mort, low gdpp and low income."
   ]
  },
  {
   "cell_type": "code",
   "execution_count": 95,
   "metadata": {},
   "outputs": [],
   "source": [
    "clu_child_mort = pd.DataFrame(dat6.groupby([\"cluster_labels\"]).child_mort.mean())\n",
    "clu_gdpp= pd.DataFrame(dat6.groupby([\"cluster_labels\"]).gdpp.mean())\n",
    "clu_income = pd.DataFrame(dat6.groupby([\"cluster_labels\"]).income.mean())"
   ]
  },
  {
   "cell_type": "code",
   "execution_count": 96,
   "metadata": {},
   "outputs": [],
   "source": [
    "df_hcl= pd.concat([pd.Series([0,1,2]),clu_child_mort,clu_gdpp,clu_income], axis=1)"
   ]
  },
  {
   "cell_type": "code",
   "execution_count": 97,
   "metadata": {},
   "outputs": [
    {
     "data": {
      "text/html": [
       "<div>\n",
       "<style scoped>\n",
       "    .dataframe tbody tr th:only-of-type {\n",
       "        vertical-align: middle;\n",
       "    }\n",
       "\n",
       "    .dataframe tbody tr th {\n",
       "        vertical-align: top;\n",
       "    }\n",
       "\n",
       "    .dataframe thead th {\n",
       "        text-align: right;\n",
       "    }\n",
       "</style>\n",
       "<table border=\"1\" class=\"dataframe\">\n",
       "  <thead>\n",
       "    <tr style=\"text-align: right;\">\n",
       "      <th></th>\n",
       "      <th>cluster_labels</th>\n",
       "      <th>child_mort</th>\n",
       "      <th>income</th>\n",
       "      <th>gdpp</th>\n",
       "    </tr>\n",
       "  </thead>\n",
       "  <tbody>\n",
       "    <tr>\n",
       "      <th>0</th>\n",
       "      <td>0</td>\n",
       "      <td>37.929091</td>\n",
       "      <td>12470.812121</td>\n",
       "      <td>16765.533333</td>\n",
       "    </tr>\n",
       "    <tr>\n",
       "      <th>1</th>\n",
       "      <td>1</td>\n",
       "      <td>2.800000</td>\n",
       "      <td>105000.000000</td>\n",
       "      <td>91700.000000</td>\n",
       "    </tr>\n",
       "    <tr>\n",
       "      <th>2</th>\n",
       "      <td>2</td>\n",
       "      <td>130.000000</td>\n",
       "      <td>2330.000000</td>\n",
       "      <td>5150.000000</td>\n",
       "    </tr>\n",
       "  </tbody>\n",
       "</table>\n",
       "</div>"
      ],
      "text/plain": [
       "   cluster_labels  child_mort         income          gdpp\n",
       "0               0   37.929091   12470.812121  16765.533333\n",
       "1               1    2.800000  105000.000000  91700.000000\n",
       "2               2  130.000000    2330.000000   5150.000000"
      ]
     },
     "execution_count": 97,
     "metadata": {},
     "output_type": "execute_result"
    }
   ],
   "source": [
    "df_hcl.columns = [\"cluster_labels\",\"child_mort\",\"income\",\"gdpp\"]\n",
    "df_hcl"
   ]
  },
  {
   "cell_type": "code",
   "execution_count": 98,
   "metadata": {},
   "outputs": [
    {
     "data": {
      "text/html": [
       "<div>\n",
       "<style scoped>\n",
       "    .dataframe tbody tr th:only-of-type {\n",
       "        vertical-align: middle;\n",
       "    }\n",
       "\n",
       "    .dataframe tbody tr th {\n",
       "        vertical-align: top;\n",
       "    }\n",
       "\n",
       "    .dataframe thead th {\n",
       "        text-align: right;\n",
       "    }\n",
       "</style>\n",
       "<table border=\"1\" class=\"dataframe\">\n",
       "  <thead>\n",
       "    <tr style=\"text-align: right;\">\n",
       "      <th></th>\n",
       "      <th>country</th>\n",
       "      <th>child_mort</th>\n",
       "      <th>income</th>\n",
       "      <th>inflation</th>\n",
       "      <th>life_expec</th>\n",
       "      <th>total_fer</th>\n",
       "      <th>gdpp</th>\n",
       "      <th>Exports</th>\n",
       "      <th>Health</th>\n",
       "      <th>Imports</th>\n",
       "    </tr>\n",
       "  </thead>\n",
       "  <tbody>\n",
       "    <tr>\n",
       "      <th>31</th>\n",
       "      <td>Central African Republic</td>\n",
       "      <td>149.0</td>\n",
       "      <td>888</td>\n",
       "      <td>2.01</td>\n",
       "      <td>47.5</td>\n",
       "      <td>5.21</td>\n",
       "      <td>446</td>\n",
       "      <td>52.628</td>\n",
       "      <td>17.7508</td>\n",
       "      <td>118.190</td>\n",
       "    </tr>\n",
       "    <tr>\n",
       "      <th>32</th>\n",
       "      <td>Chad</td>\n",
       "      <td>150.0</td>\n",
       "      <td>1930</td>\n",
       "      <td>6.39</td>\n",
       "      <td>56.5</td>\n",
       "      <td>6.59</td>\n",
       "      <td>897</td>\n",
       "      <td>330.096</td>\n",
       "      <td>40.6341</td>\n",
       "      <td>390.195</td>\n",
       "    </tr>\n",
       "    <tr>\n",
       "      <th>66</th>\n",
       "      <td>Haiti</td>\n",
       "      <td>208.0</td>\n",
       "      <td>1500</td>\n",
       "      <td>5.45</td>\n",
       "      <td>32.1</td>\n",
       "      <td>3.33</td>\n",
       "      <td>662</td>\n",
       "      <td>101.286</td>\n",
       "      <td>45.7442</td>\n",
       "      <td>428.314</td>\n",
       "    </tr>\n",
       "    <tr>\n",
       "      <th>97</th>\n",
       "      <td>Mali</td>\n",
       "      <td>137.0</td>\n",
       "      <td>1870</td>\n",
       "      <td>4.37</td>\n",
       "      <td>59.5</td>\n",
       "      <td>6.55</td>\n",
       "      <td>708</td>\n",
       "      <td>161.424</td>\n",
       "      <td>35.2584</td>\n",
       "      <td>248.508</td>\n",
       "    </tr>\n",
       "    <tr>\n",
       "      <th>132</th>\n",
       "      <td>Sierra Leone</td>\n",
       "      <td>160.0</td>\n",
       "      <td>1220</td>\n",
       "      <td>17.20</td>\n",
       "      <td>55.0</td>\n",
       "      <td>5.20</td>\n",
       "      <td>399</td>\n",
       "      <td>67.032</td>\n",
       "      <td>52.2690</td>\n",
       "      <td>137.655</td>\n",
       "    </tr>\n",
       "  </tbody>\n",
       "</table>\n",
       "</div>"
      ],
      "text/plain": [
       "                      country  child_mort  income  inflation  life_expec  \\\n",
       "31   Central African Republic       149.0     888       2.01        47.5   \n",
       "32                       Chad       150.0    1930       6.39        56.5   \n",
       "66                      Haiti       208.0    1500       5.45        32.1   \n",
       "97                       Mali       137.0    1870       4.37        59.5   \n",
       "132              Sierra Leone       160.0    1220      17.20        55.0   \n",
       "\n",
       "     total_fer  gdpp  Exports   Health  Imports  \n",
       "31        5.21   446   52.628  17.7508  118.190  \n",
       "32        6.59   897  330.096  40.6341  390.195  \n",
       "66        3.33   662  101.286  45.7442  428.314  \n",
       "97        6.55   708  161.424  35.2584  248.508  \n",
       "132       5.20   399   67.032  52.2690  137.655  "
      ]
     },
     "execution_count": 98,
     "metadata": {},
     "output_type": "execute_result"
    }
   ],
   "source": [
    "hcl=Country.loc[(Country.child_mort>=130.000000) &(Country.gdpp<=5150.000000)&(Country.income<=2330.000000)]\n",
    "hcl"
   ]
  },
  {
   "cell_type": "code",
   "execution_count": 92,
   "metadata": {},
   "outputs": [
    {
     "data": {
      "text/plain": [
       "<matplotlib.axes._subplots.AxesSubplot at 0x12aabbf0>"
      ]
     },
     "execution_count": 92,
     "metadata": {},
     "output_type": "execute_result"
    },
    {
     "data": {
      "image/png": "[encoded data removed]",
      "text/plain": [
       "<Figure size 432x288 with 1 Axes>"
      ]
     },
     "metadata": {
      "needs_background": "light"
     },
     "output_type": "display_data"
    }
   ],
   "source": [
    "sns.boxplot(x='cluster_labels', y='income', data=dat6)"
   ]
  },
  {
   "cell_type": "code",
   "execution_count": 93,
   "metadata": {},
   "outputs": [
    {
     "data": {
      "text/plain": [
       "<matplotlib.axes._subplots.AxesSubplot at 0x1125bcf0>"
      ]
     },
     "execution_count": 93,
     "metadata": {},
     "output_type": "execute_result"
    },
    {
     "data": {
      "image/png": "[encoded data removed]",
      "text/plain": [
       "<Figure size 432x288 with 1 Axes>"
      ]
     },
     "metadata": {
      "needs_background": "light"
     },
     "output_type": "display_data"
    }
   ],
   "source": [
    "sns.boxplot(x='cluster_labels', y='gdpp', data=dat6)"
   ]
  },
  {
   "cell_type": "code",
   "execution_count": 94,
   "metadata": {},
   "outputs": [
    {
     "data": {
      "text/plain": [
       "<matplotlib.axes._subplots.AxesSubplot at 0x127446b0>"
      ]
     },
     "execution_count": 94,
     "metadata": {},
     "output_type": "execute_result"
    },
    {
     "data": {
      "image/png": "[encoded data removed]",
      "text/plain": [
       "<Figure size 432x288 with 1 Axes>"
      ]
     },
     "metadata": {
      "needs_background": "light"
     },
     "output_type": "display_data"
    }
   ],
   "source": [
    "sns.boxplot(x='cluster_labels', y='child_mort', data=dat6)"
   ]
  },
  {
   "cell_type": "code",
   "execution_count": null,
   "metadata": {},
   "outputs": [],
   "source": []
  },
  {
   "cell_type": "code",
   "execution_count": null,
   "metadata": {},
   "outputs": [],
   "source": []
  },
  {
   "cell_type": "code",
   "execution_count": null,
   "metadata": {},
   "outputs": [],
   "source": []
  },
  {
   "cell_type": "code",
   "execution_count": null,
   "metadata": {},
   "outputs": [],
   "source": []
  }
 ],
 "metadata": {
  "kernelspec": {
   "display_name": "Python 3",
   "language": "python",
   "name": "python3"
  },
  "language_info": {
   "codemirror_mode": {
    "name": "ipython",
    "version": 3
   },
   "file_extension": ".py",
   "mimetype": "text/x-python",
   "name": "python",
   "nbconvert_exporter": "python",
   "pygments_lexer": "ipython3",
   "version": "3.7.1"
  }
 },
 "nbformat": 4,
 "nbformat_minor": 2
}
